{
 "cells": [
  {
   "cell_type": "code",
   "execution_count": 1,
   "id": "cb9a3ffe-ced5-4c0c-94fe-d2489789069f",
   "metadata": {},
   "outputs": [
    {
     "name": "stdout",
     "output_type": "stream",
     "text": [
      "[(0, 0), (0, 1), (0, 2), (1, 0), (1, 1), (2, 0)]\n"
     ]
    }
   ],
   "source": [
    "p = [(x, y) for x in range(5) for y in range(6) if x + y <= 2]\n",
    "print(p)"
   ]
  },
  {
   "cell_type": "code",
   "execution_count": 2,
   "id": "8c20e577-b61e-4ff9-bfd7-4ad85466e92a",
   "metadata": {},
   "outputs": [
    {
     "name": "stdout",
     "output_type": "stream",
     "text": [
      "P(0, 0) = 0.04545\n",
      "P(0, 1) = 0.22727\n",
      "P(0, 2) = 0.15152\n",
      "P(1, 0) = 0.18182\n",
      "P(1, 1) = 0.30303\n",
      "P(2, 0) = 0.09091\n"
     ]
    }
   ],
   "source": [
    "import math\n",
    "\n",
    "# Generate all possible pairs (X, Y) with X + Y <= 2\n",
    "ps = [(x, y) for x in range(5) for y in range(6) if x + y <= 2]\n",
    "\n",
    "# Function to compute joint probability\n",
    "def bivar_probability(n):\n",
    "    x, y = n\n",
    "    return (math.comb(4, x) * math.comb(5, y)\n",
    "            * math.comb(3, 2 - x - y)) / math.comb(12, 2)\n",
    "\n",
    "# Compute and print probabilities\n",
    "for n in ps:\n",
    "    print(f'P{n} = {bivar_probability(n):0.5f}')"
   ]
  }
 ],
 "metadata": {
  "kernelspec": {
   "display_name": "Python 3 (ipykernel)",
   "language": "python",
   "name": "python3"
  },
  "language_info": {
   "codemirror_mode": {
    "name": "ipython",
    "version": 3
   },
   "file_extension": ".py",
   "mimetype": "text/x-python",
   "name": "python",
   "nbconvert_exporter": "python",
   "pygments_lexer": "ipython3",
   "version": "3.12.3"
  }
 },
 "nbformat": 4,
 "nbformat_minor": 5
}
