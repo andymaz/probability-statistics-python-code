{
 "cells": [
  {
   "cell_type": "code",
   "execution_count": 1,
   "id": "431acfba-eb39-4cf9-89c9-16d9c74aa3ee",
   "metadata": {},
   "outputs": [
    {
     "data": {
      "text/html": [
       "<div>\n",
       "<style scoped>\n",
       "    .dataframe tbody tr th:only-of-type {\n",
       "        vertical-align: middle;\n",
       "    }\n",
       "\n",
       "    .dataframe tbody tr th {\n",
       "        vertical-align: top;\n",
       "    }\n",
       "\n",
       "    .dataframe thead th {\n",
       "        text-align: right;\n",
       "    }\n",
       "</style>\n",
       "<table border=\"1\" class=\"dataframe\">\n",
       "  <thead>\n",
       "    <tr style=\"text-align: right;\">\n",
       "      <th></th>\n",
       "      <th>y = 0</th>\n",
       "      <th>y = 1</th>\n",
       "      <th>y = 2</th>\n",
       "      <th>Row sum</th>\n",
       "    </tr>\n",
       "  </thead>\n",
       "  <tbody>\n",
       "    <tr>\n",
       "      <th>x = 0</th>\n",
       "      <td>0.10</td>\n",
       "      <td>0.20</td>\n",
       "      <td>0.1</td>\n",
       "      <td>0.4</td>\n",
       "    </tr>\n",
       "    <tr>\n",
       "      <th>x = 1</th>\n",
       "      <td>0.15</td>\n",
       "      <td>0.25</td>\n",
       "      <td>0.2</td>\n",
       "      <td>0.6</td>\n",
       "    </tr>\n",
       "    <tr>\n",
       "      <th>Col sum</th>\n",
       "      <td>0.25</td>\n",
       "      <td>0.45</td>\n",
       "      <td>0.3</td>\n",
       "      <td>1.0</td>\n",
       "    </tr>\n",
       "  </tbody>\n",
       "</table>\n",
       "</div>"
      ],
      "text/plain": [
       "         y = 0  y = 1  y = 2  Row sum\n",
       "x = 0     0.10   0.20    0.1      0.4\n",
       "x = 1     0.15   0.25    0.2      0.6\n",
       "Col sum   0.25   0.45    0.3      1.0"
      ]
     },
     "execution_count": 1,
     "metadata": {},
     "output_type": "execute_result"
    }
   ],
   "source": [
    "import pandas as pd\n",
    "\n",
    "# Define the joint probability table for X and Y\n",
    "df = pd.DataFrame(\n",
    "    {'y = 0': [0.10, 0.15],\n",
    "     'y = 1': [0.20, 0.25],\n",
    "     'y = 2': [0.10, 0.20]}, index=['x = 0', 'x = 1'])\n",
    "\n",
    "# Add row sums (marginal distribution of X)\n",
    "df['Row sum'] = df.sum(axis=1)\n",
    "\n",
    "# Add column sums (marginal distribution of Y)\n",
    "df.loc['Col sum'] = df.sum(axis=0)\n",
    "\n",
    "# Display the completed table with marginals\n",
    "df"
   ]
  },
  {
   "cell_type": "code",
   "execution_count": 2,
   "id": "92316bb2-32b8-439a-bb14-4d9a96a37a15",
   "metadata": {},
   "outputs": [
    {
     "name": "stdout",
     "output_type": "stream",
     "text": [
      "Marginal f_X:\n",
      " f_X(0) = 0.40\n",
      " f_X(1) = 0.60\n",
      "\n",
      "Marginal f_Y:\n",
      " f_Y(0) = 0.25\n",
      " f_Y(1) = 0.45\n",
      " f_Y(2) = 0.30\n",
      "\n",
      "Total probability (should be 1.00): 1.00\n"
     ]
    }
   ],
   "source": [
    "joint = {\n",
    "    (0,0): 0.10, (0,1): 0.20, (0,2): 0.10,\n",
    "    (1,0): 0.15, (1,1): 0.25, (1,2): 0.20\n",
    "}\n",
    "\n",
    "# Compute marginals\n",
    "fX = {}\n",
    "fY = {}\n",
    "total = 0.0\n",
    "\n",
    "for (x,y), p in joint.items():\n",
    "    fX[x] = fX.get(x, 0.0) + p\n",
    "    fY[y] = fY.get(y, 0.0) + p\n",
    "    total += p\n",
    "\n",
    "print(\"Marginal f_X:\")\n",
    "for x in sorted(fX):\n",
    "    print(f\" f_X({x}) = {fX[x]:.2f}\")\n",
    "\n",
    "print(\"\\nMarginal f_Y:\")\n",
    "for y in sorted(fY):\n",
    "    print(f\" f_Y({y}) = {fY[y]:.2f}\")\n",
    "\n",
    "print(f\"\\nTotal probability (should be 1.00): {total:.2f}\")"
   ]
  }
 ],
 "metadata": {
  "kernelspec": {
   "display_name": "Python 3 (ipykernel)",
   "language": "python",
   "name": "python3"
  },
  "language_info": {
   "codemirror_mode": {
    "name": "ipython",
    "version": 3
   },
   "file_extension": ".py",
   "mimetype": "text/x-python",
   "name": "python",
   "nbconvert_exporter": "python",
   "pygments_lexer": "ipython3",
   "version": "3.12.3"
  }
 },
 "nbformat": 4,
 "nbformat_minor": 5
}
