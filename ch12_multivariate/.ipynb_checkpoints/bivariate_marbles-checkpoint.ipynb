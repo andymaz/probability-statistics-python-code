{
 "cells": [
  {
   "cell_type": "code",
   "execution_count": 3,
   "id": "0f13178a-46bf-4f4b-a9ab-0aeedef7441d",
   "metadata": {},
   "outputs": [
    {
     "name": "stdout",
     "output_type": "stream",
     "text": [
      "P(0, 0) = 0.04545\n",
      "P(0, 1) = 0.22727\n",
      "P(0, 2) = 0.15152\n",
      "P(1, 0) = 0.18182\n",
      "P(1, 1) = 0.30303\n",
      "P(2, 0) = 0.09091\n"
     ]
    }
   ],
   "source": [
    "import math\n",
    "\n",
    "# List all possible (X, Y) pairs where Joey picks 2 marbles\n",
    "# X = number of red marbles (0 to 4), Y = number of blue marbles (0 to 5)\n",
    "# Only keep combinations where X + Y <= 2, since only 2 marbles are drawn\n",
    "ps = [(x, y) for x in range(5) for y in range(6) if x + y <= 2]\n",
    "\n",
    "# Function to compute the probability of a given (X, Y) pair\n",
    "def bivar_probability(n):\n",
    "    x, y = n\n",
    "    z = 2 - x - y  # number of green marbles selected\n",
    "    # Use combinatorial counts:\n",
    "    #   choose x reds from 4, y blues from 5, z greens from 3\n",
    "    # Divide by total ways to choose 2 marbles from 12\n",
    "    return (math.comb(4, x) * math.comb(5, y) * math.comb(3, z)) / math.comb(12, 2)\n",
    "\n",
    "# Compute and print probabilities for all valid (X, Y) pairs\n",
    "for n in ps:\n",
    "    print(f'P{n} = {bivar_probability(n):0.5f}')\n"
   ]
  },
  {
   "cell_type": "code",
   "execution_count": null,
   "id": "cdabe0c2-c208-4c4e-a21a-4f3ab8252139",
   "metadata": {},
   "outputs": [],
   "source": []
  }
 ],
 "metadata": {
  "kernelspec": {
   "display_name": "Python 3 (ipykernel)",
   "language": "python",
   "name": "python3"
  },
  "language_info": {
   "codemirror_mode": {
    "name": "ipython",
    "version": 3
   },
   "file_extension": ".py",
   "mimetype": "text/x-python",
   "name": "python",
   "nbconvert_exporter": "python",
   "pygments_lexer": "ipython3",
   "version": "3.12.3"
  }
 },
 "nbformat": 4,
 "nbformat_minor": 5
}
