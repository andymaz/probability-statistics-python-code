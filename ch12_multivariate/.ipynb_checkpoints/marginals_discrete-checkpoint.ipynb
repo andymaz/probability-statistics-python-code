{
 "cells": [
  {
   "cell_type": "code",
   "execution_count": 3,
   "id": "cd4966e8-ad46-4f66-80eb-0108e5204c4b",
   "metadata": {},
   "outputs": [
    {
     "name": "stdout",
     "output_type": "stream",
     "text": [
      "Marginal f_X:\n",
      " f_X(0) = 0.40\n",
      " f_X(1) = 0.60\n",
      "\n",
      "Marginal f_Y:\n",
      " f_Y(0) = 0.25\n",
      " f_Y(1) = 0.45\n",
      " f_Y(2) = 0.30\n",
      "\n",
      "Total probability (should be 1.00): 1.00\n"
     ]
    }
   ],
   "source": [
    "joint = {\n",
    "    (0,0): 0.10, (0,1): 0.20, (0,2): 0.10,\n",
    "    (1,0): 0.15, (1,1): 0.25, (1,2): 0.20\n",
    "}\n",
    "\n",
    "# Compute marginals\n",
    "fX = {}\n",
    "fY = {}\n",
    "total = 0.0\n",
    "\n",
    "for (x,y), p in joint.items():\n",
    "    fX[x] = fX.get(x, 0.0) + p\n",
    "    fY[y] = fY.get(y, 0.0) + p\n",
    "    total += p\n",
    "\n",
    "print(\"Marginal f_X:\")\n",
    "for x in sorted(fX):\n",
    "    print(f\" f_X({x}) = {fX[x]:.2f}\")\n",
    "\n",
    "print(\"\\nMarginal f_Y:\")\n",
    "for y in sorted(fY):\n",
    "    print(f\" f_Y({y}) = {fY[y]:.2f}\")\n",
    "\n",
    "print(f\"\\nTotal probability (should be 1.00): {total:.2f}\")\n",
    "# Expected output:\n",
    "# f_X(0) = 0.40\n",
    "# f_X(1) = 0.60\n",
    "# f_Y(0) = 0.25\n",
    "# f_Y(1) = 0.45\n",
    "# f_Y(2) = 0.30\n",
    "# Total probability (should be 1.00): 1.00"
   ]
  },
  {
   "cell_type": "code",
   "execution_count": null,
   "id": "09f932a0-c973-43ef-985c-fd4bfe20551d",
   "metadata": {},
   "outputs": [],
   "source": []
  },
  {
   "cell_type": "code",
   "execution_count": null,
   "id": "7d8d076a-c14c-46e0-884b-f6c99d989d2c",
   "metadata": {},
   "outputs": [],
   "source": []
  }
 ],
 "metadata": {
  "kernelspec": {
   "display_name": "Python 3 (ipykernel)",
   "language": "python",
   "name": "python3"
  },
  "language_info": {
   "codemirror_mode": {
    "name": "ipython",
    "version": 3
   },
   "file_extension": ".py",
   "mimetype": "text/x-python",
   "name": "python",
   "nbconvert_exporter": "python",
   "pygments_lexer": "ipython3",
   "version": "3.12.3"
  }
 },
 "nbformat": 4,
 "nbformat_minor": 5
}
