{
 "cells": [
  {
   "cell_type": "code",
   "execution_count": null,
   "id": "54659b72-b73d-4396-962d-afd7fa58cc0e",
   "metadata": {},
   "outputs": [],
   "source": [
    "from scipy.stats import norm\n",
    "\n",
    "mean = 60\n",
    "sd = 20\n",
    "prob = norm.cdf(71, loc=mean, scale=sd) - norm.cdf(52, loc=mean, scale=sd)\n",
    "print(f'probability = {prob:0.4f}')\n",
    "\n",
    "# Output:\n",
    "# probability = 0.3643\n"
   ]
  }
 ],
 "metadata": {
  "kernelspec": {
   "display_name": "Python 3 (ipykernel)",
   "language": "python",
   "name": "python3"
  },
  "language_info": {
   "codemirror_mode": {
    "name": "ipython",
    "version": 3
   },
   "file_extension": ".py",
   "mimetype": "text/x-python",
   "name": "python",
   "nbconvert_exporter": "python",
   "pygments_lexer": "ipython3",
   "version": "3.12.3"
  }
 },
 "nbformat": 4,
 "nbformat_minor": 5
}
