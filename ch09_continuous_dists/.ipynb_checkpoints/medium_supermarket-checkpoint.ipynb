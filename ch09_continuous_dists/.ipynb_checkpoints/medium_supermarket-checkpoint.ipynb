{
 "cells": [
  {
   "cell_type": "code",
   "execution_count": 1,
   "id": "a89097e9-1984-4d97-b31b-3289330dcb5b",
   "metadata": {},
   "outputs": [
    {
     "name": "stdout",
     "output_type": "stream",
     "text": [
      "Poisson cumulative = 0.813718\n",
      "Normal approx = 0.813280\n"
     ]
    }
   ],
   "source": [
    "from scipy.stats import poisson, norm\n",
    "\n",
    "lmb = 8*60\n",
    "\n",
    "# Exact Poisson cumulative probability\n",
    "s = sum(poisson.pmf(x, lmb) for x in range(500))\n",
    "print(f'Poisson cumulative = {s:.6f}')\n",
    "# Output: 0.813718\n",
    "\n",
    "# Normal approximation with continuity correction\n",
    "mean = lmb\n",
    "sd = lmb ** 0.5\n",
    "approx = norm.cdf(499.5, mean, sd)\n",
    "print(f'Normal approx = {approx:.6f}')\n",
    "# Output: 0.813280"
   ]
  }
 ],
 "metadata": {
  "kernelspec": {
   "display_name": "Python 3 (ipykernel)",
   "language": "python",
   "name": "python3"
  },
  "language_info": {
   "codemirror_mode": {
    "name": "ipython",
    "version": 3
   },
   "file_extension": ".py",
   "mimetype": "text/x-python",
   "name": "python",
   "nbconvert_exporter": "python",
   "pygments_lexer": "ipython3",
   "version": "3.12.3"
  }
 },
 "nbformat": 4,
 "nbformat_minor": 5
}
