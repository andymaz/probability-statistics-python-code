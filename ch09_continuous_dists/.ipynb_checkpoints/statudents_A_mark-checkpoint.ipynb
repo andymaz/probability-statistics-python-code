{
 "cells": [
  {
   "cell_type": "code",
   "execution_count": 1,
   "id": "3a8237dc-572a-488e-a2b4-7463d176187c",
   "metadata": {},
   "outputs": [
    {
     "data": {
      "image/png": "[encoded data removed]",
      "text/plain": [
       "<Figure size 400x200 with 1 Axes>"
      ]
     },
     "metadata": {},
     "output_type": "display_data"
    },
    {
     "name": "stdout",
     "output_type": "stream",
     "text": [
      "P(Z >= 1.2857) = 0.0993\n",
      "Probability (mark ≥ 70) = 0.0993\n"
     ]
    }
   ],
   "source": [
    "import matplotlib.pyplot as plt\n",
    "import numpy as np\n",
    "from scipy.stats import norm\n",
    "\n",
    "def normal_XY(mean, sd):\n",
    "    \"\"\"\n",
    "    Generate x-values around the mean (±4 SD) and \n",
    "    compute the corresponding normal PDF values.\n",
    "    \"\"\"\n",
    "    xs = np.linspace(mean - 4*sd, mean + 4*sd, 200)\n",
    "    return xs, norm.pdf(xs, mean, sd)\n",
    "\n",
    "# Standard normal for illustration\n",
    "mu, sigma = 0, 1\n",
    "\n",
    "# Z-value for the threshold mark (70 in original problem)\n",
    "z_thresh = (70 - 52) / 14\n",
    "\n",
    "# Generate PDF values\n",
    "nx, ny = normal_XY(mu, sigma)\n",
    "\n",
    "# Create figure\n",
    "fig, ax = plt.subplots(figsize=(4, 2))\n",
    "ax.plot(nx, ny, color='b', linewidth=0.8)\n",
    "\n",
    "# Shade area corresponding to marks ≥ 70\n",
    "ax.fill_between(\n",
    "    x=nx,\n",
    "    y1=ny,\n",
    "    where=(nx >= z_thresh),\n",
    "    color=\"magenta\",\n",
    "    alpha=0.3,\n",
    "    label=f'Marks ≥ 70 (Z ≥ {z_thresh:.4f})'\n",
    ")\n",
    "\n",
    "# Set x-axis ticks\n",
    "ax.set_xticks([-4, -2, 0, z_thresh, 4])\n",
    "ax.set_xticklabels(['-4', '-2', '0', f'{z_thresh:.2f}', '4'])\n",
    "\n",
    "# Add horizontal and vertical lines for axes\n",
    "ax.axhline(y=0, color='k', linewidth=0.7)\n",
    "ax.axvline(x=0, color='k', linewidth=0.7)\n",
    "\n",
    "# Labels and legend\n",
    "ax.set_xlabel('Z-value')\n",
    "ax.set_ylabel('Probability Density')\n",
    "ax.legend(fontsize=8)\n",
    "\n",
    "# Save figure\n",
    "fig.savefig('img/statudents_A_Mark.png', dpi=300, bbox_inches='tight')\n",
    "plt.show()\n",
    "\n",
    "# Print probability using standard normal\n",
    "print(f'P(Z >= {z_thresh:.4f}) = {1 - norm.cdf(z_thresh):0.4f}')\n",
    "\n",
    "# Direct probability for original marks\n",
    "mean, sd = 52, 14\n",
    "print(f'Probability (mark ≥ 70) = {(1 - norm.cdf(70, mean, sd)):0.4f}')\n"
   ]
  },
  {
   "cell_type": "code",
   "execution_count": 2,
   "id": "173157f6-ee51-44ab-8c4a-91ae746d587f",
   "metadata": {},
   "outputs": [
    {
     "name": "stdout",
     "output_type": "stream",
     "text": [
      "P(Z >= 1.2857) = 0.0993\n"
     ]
    }
   ],
   "source": [
    "print(f'P(Z >= 1.2857) = {1-norm.cdf(1.2857) :0.4f}')"
   ]
  },
  {
   "cell_type": "code",
   "execution_count": 3,
   "id": "2cf76987-b016-4034-b576-ba906177d4e8",
   "metadata": {},
   "outputs": [
    {
     "name": "stdout",
     "output_type": "stream",
     "text": [
      "probability = 0.0993\n"
     ]
    }
   ],
   "source": [
    "mean = 52\n",
    "sd = 14\n",
    "print(f'probability = {(1- norm.cdf(70, mean, sd)):0.4f}')"
   ]
  },
  {
   "cell_type": "code",
   "execution_count": 4,
   "id": "38643026-810e-4913-aff0-4aa8cc4f99fc",
   "metadata": {},
   "outputs": [
    {
     "name": "stdout",
     "output_type": "stream",
     "text": [
      "P(Z >= 1.2857) = 0.09927\n"
     ]
    }
   ],
   "source": [
    "mu, sigma = 0, 1  # mean and standard deviation\n",
    "print(f'P(Z >= 1.2857) = {1 - norm.cdf(1.2857):0.5f}')\n"
   ]
  },
  {
   "cell_type": "code",
   "execution_count": null,
   "id": "8b2713c0-41fb-4f2b-874b-c37a6a28b2ba",
   "metadata": {},
   "outputs": [],
   "source": []
  }
 ],
 "metadata": {
  "kernelspec": {
   "display_name": "Python 3 (ipykernel)",
   "language": "python",
   "name": "python3"
  },
  "language_info": {
   "codemirror_mode": {
    "name": "ipython",
    "version": 3
   },
   "file_extension": ".py",
   "mimetype": "text/x-python",
   "name": "python",
   "nbconvert_exporter": "python",
   "pygments_lexer": "ipython3",
   "version": "3.12.3"
  }
 },
 "nbformat": 4,
 "nbformat_minor": 5
}
