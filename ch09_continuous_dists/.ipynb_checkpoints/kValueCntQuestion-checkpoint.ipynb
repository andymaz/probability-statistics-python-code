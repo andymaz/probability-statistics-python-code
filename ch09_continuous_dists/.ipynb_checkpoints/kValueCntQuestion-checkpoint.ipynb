{
 "cells": [
  {
   "cell_type": "code",
   "execution_count": 1,
   "id": "4520b612-73b6-43be-b8a4-8c9d424fc6c0",
   "metadata": {},
   "outputs": [],
   "source": [
    "import numpy as np\n",
    "from scipy.interpolate import make_interp_spline\n",
    "import matplotlib.pyplot as plt \n",
    "from scipy.stats import binom"
   ]
  },
  {
   "cell_type": "code",
   "execution_count": 2,
   "id": "b0f2209d-f79d-4785-8be8-d6fab5839c7b",
   "metadata": {},
   "outputs": [],
   "source": [
    "xs = np.linspace(0, 8, 200)\n",
    "ys = (lambda x: (((-1/120)*x) +1/5))(xs)"
   ]
  },
  {
   "cell_type": "code",
   "execution_count": 3,
   "id": "08260db7-17e7-4603-8982-b340fe5e51c3",
   "metadata": {},
   "outputs": [
    {
     "data": {
      "image/png": "[encoded data removed]",
      "text/plain": [
       "<Figure size 400x200 with 1 Axes>"
      ]
     },
     "metadata": {},
     "output_type": "display_data"
    }
   ],
   "source": [
    "fig, ax = plt.subplots(figsize=(4, 2))\n",
    "\n",
    "ax.plot(xs, ys, color='b', linewidth=0.8)\n",
    "# ax.grid()\n",
    "# ax.set_title(\"Students getting an A\")\n",
    "ax.fill_between(\n",
    "        x=xs, \n",
    "        y1=ys, \n",
    "        # where= (-1.5 < nx)|(nx < 1.5),\n",
    "        where= (xs> 1) & (xs <= 7),\n",
    "        color= \"brown\",\n",
    "        alpha= 0.3)\n",
    "ax.set_xticks([0, 1, 3, 5, 7])\n",
    "ax.axhline(y=0, color='k',linewidth=0.7)\n",
    "ax.axvline(x=0, color='k',linewidth=0.7)\n",
    "fig.savefig('k_valueQ.jpg')\n",
    "plt.show()"
   ]
  },
  {
   "cell_type": "code",
   "execution_count": null,
   "id": "37422e96-501b-4ac5-b4a6-57d92942a69c",
   "metadata": {},
   "outputs": [],
   "source": []
  }
 ],
 "metadata": {
  "kernelspec": {
   "display_name": "Python 3 (ipykernel)",
   "language": "python",
   "name": "python3"
  },
  "language_info": {
   "codemirror_mode": {
    "name": "ipython",
    "version": 3
   },
   "file_extension": ".py",
   "mimetype": "text/x-python",
   "name": "python",
   "nbconvert_exporter": "python",
   "pygments_lexer": "ipython3",
   "version": "3.12.3"
  }
 },
 "nbformat": 4,
 "nbformat_minor": 5
}
