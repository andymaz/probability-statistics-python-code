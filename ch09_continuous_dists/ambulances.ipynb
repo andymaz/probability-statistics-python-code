{
 "cells": [
  {
   "cell_type": "code",
   "execution_count": 1,
   "id": "7f614619-94e6-4260-b04c-5e95df93d79f",
   "metadata": {},
   "outputs": [
    {
     "name": "stdout",
     "output_type": "stream",
     "text": [
      "Poisson P(X=30) = 0.072635\n",
      "Normal approx = 0.072736\n"
     ]
    }
   ],
   "source": [
    "from scipy.stats import poisson, norm\n",
    "import numpy as np\n",
    "\n",
    "# Poisson mean (λ)\n",
    "lmb = 30\n",
    "\n",
    "# Exact probability\n",
    "print(f'Poisson P(X=30) = {poisson.pmf(30, lmb):.6f}')\n",
    "# Output: 0.072759\n",
    "\n",
    "# Normal approximation\n",
    "mean = lmb\n",
    "sd = np.sqrt(lmb)\n",
    "\n",
    "# Apply continuity correction: P(29.5 < Y < 30.5)\n",
    "approx = norm.cdf(30.5, mean, sd) - norm.cdf(29.5, mean, sd)\n",
    "print(f'Normal approx = {approx:.6f}')"
   ]
  }
 ],
 "metadata": {
  "kernelspec": {
   "display_name": "Python 3 (ipykernel)",
   "language": "python",
   "name": "python3"
  },
  "language_info": {
   "codemirror_mode": {
    "name": "ipython",
    "version": 3
   },
   "file_extension": ".py",
   "mimetype": "text/x-python",
   "name": "python",
   "nbconvert_exporter": "python",
   "pygments_lexer": "ipython3",
   "version": "3.12.3"
  }
 },
 "nbformat": 4,
 "nbformat_minor": 5
}
