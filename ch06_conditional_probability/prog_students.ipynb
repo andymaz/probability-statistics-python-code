{
 "cells": [
  {
   "cell_type": "code",
   "execution_count": 1,
   "id": "fc3d8320-8d78-4218-942a-989040d495a2",
   "metadata": {},
   "outputs": [],
   "source": [
    "import pandas as pd"
   ]
  },
  {
   "cell_type": "code",
   "execution_count": 2,
   "id": "6547c3c4-03b6-4f13-bea9-8b26a217f258",
   "metadata": {},
   "outputs": [],
   "source": [
    "# Create DataFrame for department data\n",
    "students = pd.DataFrame({\n",
    "    'department': ['computing', 'mathematics', 'electronic', 'biochemical']\n",
    "})"
   ]
  },
  {
   "cell_type": "code",
   "execution_count": 3,
   "id": "53457302-cec6-482c-8ef3-29b3dd85407e",
   "metadata": {},
   "outputs": [],
   "source": [
    "# Proportion of students in each department\n",
    "students['major'] = [0.35, 0.30, 0.20, 0.15]\n",
    "\n",
    "# Proportion of English and Scottish students within each department\n",
    "students['english'] = [0.40, 0.50, 0.30, 0.40]\n",
    "students['scottish'] = [0.20, 0.10, 0.20, 0.30]\n",
    "\n",
    "# Add a column for students who are neither English nor Scottish\n",
    "students['others'] = 1 - (students['english'] + students['scottish'])"
   ]
  },
  {
   "cell_type": "code",
   "execution_count": 4,
   "id": "1631f23d-c84a-4a70-a5c9-3231b6cbd306",
   "metadata": {},
   "outputs": [
    {
     "name": "stdout",
     "output_type": "stream",
     "text": [
      "Probability of being others = 0.4050\n",
      "Probability of being English = 0.4100\n",
      "0.1850\n"
     ]
    }
   ],
   "source": [
    "# (a) Probability of being 'others'\n",
    "print(f\"\"\"Probability of being others = {\n",
    "    sum(students['major'] * students['others']):0.4f}\"\"\")\n",
    "\n",
    "# (b) Probability of being English\n",
    "print(f\"\"\"Probability of being English = {\n",
    "    sum(students['major'] * students['english']):0.4f}\"\"\")\n",
    "\n",
    "# (c) Probability of being Scottish\n",
    "# Method 1: Complement\n",
    "s = 1 - (0.405 + 0.410)\n",
    "print(f\"{s:0.4f}\")"
   ]
  },
  {
   "cell_type": "code",
   "execution_count": 5,
   "id": "a95b26ac-9996-4422-ab08-0b47162647bd",
   "metadata": {},
   "outputs": [
    {
     "name": "stdout",
     "output_type": "stream",
     "text": [
      "Probability of being Scottish = 0.1850\n",
      "Probability of being a Mathematics student\n",
      "given that the student is Scottish = 0.162\n"
     ]
    }
   ],
   "source": [
    "# Method 2: Direct calculation\n",
    "print(f\"\"\"Probability of being Scottish = {\n",
    "    sum(students['major'] * students['scottish']):0.4f}\"\"\")                \n",
    "\n",
    "# (d) Conditional probability P(M | S) = P(M) * P(S | M) / P(S)\n",
    "M = students.loc[students['department'] == 'mathematics', 'major'].iloc[0]\n",
    "S_M = students.loc[students['department'] == 'mathematics', 'scottish'].iloc[0]\n",
    "\n",
    "print(f\"\"\"Probability of being a Mathematics student\n",
    "given that the student is Scottish = {(M * S_M) / 0.1850:0.3f}\"\"\")"
   ]
  }
 ],
 "metadata": {
  "kernelspec": {
   "display_name": "Python 3 (ipykernel)",
   "language": "python",
   "name": "python3"
  },
  "language_info": {
   "codemirror_mode": {
    "name": "ipython",
    "version": 3
   },
   "file_extension": ".py",
   "mimetype": "text/x-python",
   "name": "python",
   "nbconvert_exporter": "python",
   "pygments_lexer": "ipython3",
   "version": "3.12.3"
  }
 },
 "nbformat": 4,
 "nbformat_minor": 5
}
