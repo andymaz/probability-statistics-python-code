{
 "cells": [
  {
   "cell_type": "code",
   "execution_count": 1,
   "id": "3f2eaeae-debe-4d03-a956-7c22e90b4021",
   "metadata": {},
   "outputs": [],
   "source": [
    "import pandas as pd  "
   ]
  },
  {
   "cell_type": "code",
   "execution_count": 2,
   "id": "ded7cbc7-453d-4a83-a108-1417281ad606",
   "metadata": {},
   "outputs": [
    {
     "name": "stdout",
     "output_type": "stream",
     "text": [
      "      name  work  frock\n",
      "0  Anthony  0.45   0.05\n",
      "1      Sue  0.30   0.06\n",
      "2   Nadine  0.25   0.04\n"
     ]
    }
   ],
   "source": [
    "workshop = pd.DataFrame({\n",
    "    'name': ['Anthony', 'Sue', 'Nadine'],    \n",
    "    'work': [0.45, 0.3, 0.25], # Proportion of total work\n",
    "    'frock': [0.05, 0.06, 0.04] # Proportion of time on frock coats\n",
    "})\n",
    "\n",
    "print(workshop)  # Display initial DataFrame"
   ]
  },
  {
   "cell_type": "code",
   "execution_count": 3,
   "id": "e4c65798-28db-489a-8a01-c045ce7de4ba",
   "metadata": {},
   "outputs": [
    {
     "name": "stdout",
     "output_type": "stream",
     "text": [
      "F = 0.0505\n"
     ]
    }
   ],
   "source": [
    "# Total prob. of frock coat\n",
    "F = round(sum(workshop['work'] * workshop['frock']), 4) \n",
    "print(f'F = {F}')  # Print probability value"
   ]
  },
  {
   "cell_type": "code",
   "execution_count": 4,
   "id": "e9dfc39f-0362-453d-8988-095331998e95",
   "metadata": {},
   "outputs": [
    {
     "name": "stdout",
     "output_type": "stream",
     "text": [
      "      name  work  frock  name|F\n",
      "0  Anthony  0.45   0.05   0.446\n",
      "1      Sue  0.30   0.06   0.356\n",
      "2   Nadine  0.25   0.04   0.198\n"
     ]
    }
   ],
   "source": [
    "# Conditional probs.\n",
    "workshop['name|F'] = round((workshop['work'] * workshop['frock']) / F, 3)  \n",
    "print(workshop)  "
   ]
  }
 ],
 "metadata": {
  "kernelspec": {
   "display_name": "Python 3 (ipykernel)",
   "language": "python",
   "name": "python3"
  },
  "language_info": {
   "codemirror_mode": {
    "name": "ipython",
    "version": 3
   },
   "file_extension": ".py",
   "mimetype": "text/x-python",
   "name": "python",
   "nbconvert_exporter": "python",
   "pygments_lexer": "ipython3",
   "version": "3.12.3"
  }
 },
 "nbformat": 4,
 "nbformat_minor": 5
}
