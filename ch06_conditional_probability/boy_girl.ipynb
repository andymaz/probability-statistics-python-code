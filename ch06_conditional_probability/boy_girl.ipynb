{
 "cells": [
  {
   "cell_type": "code",
   "execution_count": 1,
   "id": "500c8560-9074-4540-9ad1-ff6a7c8dca80",
   "metadata": {},
   "outputs": [
    {
     "name": "stdout",
     "output_type": "stream",
     "text": [
      "[(5, 7), (6, 6), (6, 6), (7, 5), (6, 6), (7, 5), (7, 5), (8, 4)]\n",
      "(5, 7, 0.123)  (6, 6, 0.144)  \n",
      "(6, 6, 0.144)  (7, 5, 0.123)  \n",
      "(6, 6, 0.144)  (7, 5, 0.123)  \n",
      "(7, 5, 0.123)  (8, 4, 0.077)  \n"
     ]
    }
   ],
   "source": [
    "def ntree(d, c1, c2, Acc):\n",
    "    \"\"\"\n",
    "    Generate all possible leaf nodes representing the remaining counts\n",
    "    after selecting d children from two groups without replacement.\n",
    "\n",
    "    Parameters:\n",
    "    d (int): Number of children to select (tree depth).\n",
    "    c1 (int): Count from first group (e.g., boys).\n",
    "    c2 (int): Count from second group (e.g., girls).\n",
    "    Acc (list): Accumulator to store leaf nodes as tuples (c1, c2).\n",
    "    \"\"\"\n",
    "    if d == 0:\n",
    "        Acc.append((c1, c2))\n",
    "        return\n",
    "    # Select one from first group\n",
    "    ntree(d - 1, c1 - 1, c2, Acc)\n",
    "    # Select one from second group\n",
    "    ntree(d - 1, c1, c2 - 1, Acc)\n",
    "\n",
    "# Initialize parameters\n",
    "leaves = []\n",
    "boys = 8\n",
    "girls = 7\n",
    "select = 3\n",
    "\n",
    "# Generate all possible leaf nodes after selecting 3 children\n",
    "ntree(select, boys, girls, leaves)\n",
    "print(leaves)\n",
    "# Expected output:\n",
    "# [(5, 7), (6, 6), (6, 6), (7, 5), (6, 6), (7, 5), (7, 5), (8, 4)]\n",
    "\n",
    "def calculate_prob(leaf, b, g):\n",
    "    \"\"\"\n",
    "    Calculate the probability of reaching a given leaf node.\n",
    "\n",
    "    Parameters:\n",
    "    leaf (tuple): A leaf node (remaining boys, remaining girls).\n",
    "    b (int): Initial number of boys.\n",
    "    g (int): Initial number of girls.\n",
    "\n",
    "    Returns:\n",
    "    float: Probability of the leaf node.\n",
    "    \"\"\"\n",
    "    r = 1\n",
    "    total = b + g\n",
    "    # Probability of selecting boys in sequence\n",
    "    for i in range(b - leaf[0]):\n",
    "        r *= (b - i) / (total - i)\n",
    "    # Probability of selecting girls in sequence\n",
    "    for i in range(g - leaf[1]):\n",
    "        r *= (g - i) / (total - (b - leaf[0]) - i)\n",
    "    return r\n",
    "\n",
    "# Compute probabilities for all leaves, rounded to 3 decimal places\n",
    "prob_augmented = [(leaf[0], leaf[1], round(calculate_prob(leaf, boys, girls), 3))\n",
    "                  for leaf in leaves]\n",
    "\n",
    "# Display results nicely formatted\n",
    "for i, val in enumerate(prob_augmented):\n",
    "    print(f'{str(val):15}', end='')\n",
    "    if (i + 1) % 2 == 0:\n",
    "        print()\n"
   ]
  },
  {
   "cell_type": "code",
   "execution_count": 2,
   "id": "ea3a1a18-83c0-4b6f-b222-05bb43be2310",
   "metadata": {},
   "outputs": [
    {
     "name": "stdout",
     "output_type": "stream",
     "text": [
      "sum = 1.0\n"
     ]
    }
   ],
   "source": [
    "f = lambda n : calculate_prob(n, boys, girls)\n",
    "print(f'sum = {sum([f(n) for n in prob_augmented])}')"
   ]
  },
  {
   "cell_type": "code",
   "execution_count": 3,
   "id": "0c5c1896-a212-4941-ab9b-8d6397a1206d",
   "metadata": {},
   "outputs": [],
   "source": [
    "def calculate_probLst(n, b, g):\n",
    "    r = []\n",
    "    t = b + g\n",
    "    for i, x in enumerate(range((b-n[0]), 0, -1)):\n",
    "        r.append(((b-i), (t-i)))        \n",
    "       # r.append(((b), (t)))\n",
    "    for i, y in enumerate(range((g-n[1]), 0, -1)):\n",
    "        r.append(((g-i), (t-i)))\n",
    "       # r.append(((g), (t)))\n",
    "    return r"
   ]
  },
  {
   "cell_type": "code",
   "execution_count": 4,
   "id": "ec54840d-a603-4512-b85a-09bdd5f36a26",
   "metadata": {},
   "outputs": [],
   "source": [
    "prob_augmendedLst =  [(n, calculate_probLst(n, boys, girls)) for n in leaves]"
   ]
  },
  {
   "cell_type": "code",
   "execution_count": 5,
   "id": "228fbacf-ae80-451c-9f4d-a13e2be0ff88",
   "metadata": {},
   "outputs": [
    {
     "data": {
      "text/plain": [
       "[((5, 7), [(8, 15), (7, 14), (6, 13)]),\n",
       " ((6, 6), [(8, 15), (7, 14), (7, 15)]),\n",
       " ((6, 6), [(8, 15), (7, 14), (7, 15)]),\n",
       " ((7, 5), [(8, 15), (7, 15), (6, 14)]),\n",
       " ((6, 6), [(8, 15), (7, 14), (7, 15)]),\n",
       " ((7, 5), [(8, 15), (7, 15), (6, 14)]),\n",
       " ((7, 5), [(8, 15), (7, 15), (6, 14)]),\n",
       " ((8, 4), [(7, 15), (6, 14), (5, 13)])]"
      ]
     },
     "execution_count": 5,
     "metadata": {},
     "output_type": "execute_result"
    }
   ],
   "source": [
    "prob_augmendedLst"
   ]
  },
  {
   "cell_type": "code",
   "execution_count": null,
   "id": "c3a07b11-c589-4920-be31-f5d7ac59cadd",
   "metadata": {},
   "outputs": [],
   "source": []
  }
 ],
 "metadata": {
  "kernelspec": {
   "display_name": "Python 3 (ipykernel)",
   "language": "python",
   "name": "python3"
  },
  "language_info": {
   "codemirror_mode": {
    "name": "ipython",
    "version": 3
   },
   "file_extension": ".py",
   "mimetype": "text/x-python",
   "name": "python",
   "nbconvert_exporter": "python",
   "pygments_lexer": "ipython3",
   "version": "3.12.3"
  }
 },
 "nbformat": 4,
 "nbformat_minor": 5
}
