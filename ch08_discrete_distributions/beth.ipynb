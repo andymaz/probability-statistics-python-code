{
 "cells": [
  {
   "cell_type": "code",
   "execution_count": 1,
   "id": "7e78d291-c091-4393-91c1-486f8f341e8b",
   "metadata": {},
   "outputs": [],
   "source": [
    "from scipy.stats import binom"
   ]
  },
  {
   "cell_type": "markdown",
   "id": "0a04e237-ec8f-4117-8281-acfe56b57d8f",
   "metadata": {},
   "source": [
    "## Inefficient approach\n",
    "1) using sum"
   ]
  },
  {
   "cell_type": "code",
   "execution_count": 2,
   "id": "1c8a48b1-5248-4abd-b790-0ed2a8afde33",
   "metadata": {},
   "outputs": [
    {
     "name": "stdout",
     "output_type": "stream",
     "text": [
      "Probability of failure = 0.14\n"
     ]
    }
   ],
   "source": [
    "n = 15\n",
    "p = 0.01\n",
    "\n",
    "r = list(range(n + 1))\n",
    "ys = binom.pmf(r, n, p)\n",
    "s = sum(ys[1:])  # sum of probabilities for X = 1 to 15\n",
    "print(f'Probability of failure = {s:0.2f}')"
   ]
  },
  {
   "cell_type": "markdown",
   "id": "7eedf629-3af3-447d-b8fe-6da7717faff3",
   "metadata": {},
   "source": [
    "## Efficient approach \n",
    "2) using the complement"
   ]
  },
  {
   "cell_type": "code",
   "execution_count": 3,
   "id": "83cf7c75-a869-4583-b08e-7f9bbe31ce67",
   "metadata": {},
   "outputs": [
    {
     "name": "stdout",
     "output_type": "stream",
     "text": [
      "Probability of failure = 0.14\n"
     ]
    }
   ],
   "source": [
    "\n",
    "print(f'Probability of failure = {1 - binom.pmf(0, n, p):0.2f}')"
   ]
  }
 ],
 "metadata": {
  "kernelspec": {
   "display_name": "Python 3 (ipykernel)",
   "language": "python",
   "name": "python3"
  },
  "language_info": {
   "codemirror_mode": {
    "name": "ipython",
    "version": 3
   },
   "file_extension": ".py",
   "mimetype": "text/x-python",
   "name": "python",
   "nbconvert_exporter": "python",
   "pygments_lexer": "ipython3",
   "version": "3.12.3"
  }
 },
 "nbformat": 4,
 "nbformat_minor": 5
}
