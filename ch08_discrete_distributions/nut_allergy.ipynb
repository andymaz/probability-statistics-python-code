{
 "cells": [
  {
   "cell_type": "code",
   "execution_count": 1,
   "id": "5a288a46-aa4a-43de-a63e-6b552c5d3235",
   "metadata": {},
   "outputs": [
    {
     "name": "stdout",
     "output_type": "stream",
     "text": [
      "result = 3.158e-14\n"
     ]
    }
   ],
   "source": [
    "from scipy.stats import binom\n",
    "\n",
    "n = 15000\n",
    "p = 0.005\n",
    "probability = binom.pmf(20, n, p)\n",
    "print(f\"result = {probability:.3e}\")"
   ]
  },
  {
   "cell_type": "code",
   "execution_count": 2,
   "id": "75a60866-decc-4b29-aa60-5d419e09ea7e",
   "metadata": {},
   "outputs": [
    {
     "name": "stdout",
     "output_type": "stream",
     "text": [
      "result = 4.273e-14\n"
     ]
    }
   ],
   "source": [
    "cumulative_probability = binom.cdf(20, n, p)\n",
    "print(f\"result = {cumulative_probability:.3e}\")"
   ]
  }
 ],
 "metadata": {
  "kernelspec": {
   "display_name": "Python 3 (ipykernel)",
   "language": "python",
   "name": "python3"
  },
  "language_info": {
   "codemirror_mode": {
    "name": "ipython",
    "version": 3
   },
   "file_extension": ".py",
   "mimetype": "text/x-python",
   "name": "python",
   "nbconvert_exporter": "python",
   "pygments_lexer": "ipython3",
   "version": "3.12.3"
  }
 },
 "nbformat": 4,
 "nbformat_minor": 5
}
