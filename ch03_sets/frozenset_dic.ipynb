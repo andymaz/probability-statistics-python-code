{
 "cells": [
  {
   "cell_type": "code",
   "execution_count": 1,
   "id": "2807bbc9-3370-4e62-9a57-43fe349222d2",
   "metadata": {},
   "outputs": [],
   "source": [
    "A = frozenset(n for n in range(1, 11) if n % 2 == 1)\n",
    "B = frozenset(n for n in range(1, 11) if n % 2 == 0)\n",
    "\n",
    "# creating a dictionary of A and B as indices\n",
    "nums = {A: 'odds', B: 'evens'}"
   ]
  },
  {
   "cell_type": "code",
   "execution_count": 2,
   "id": "d77bac1e-2b5c-4c1a-9420-8e05350ed19a",
   "metadata": {},
   "outputs": [
    {
     "name": "stdout",
     "output_type": "stream",
     "text": [
      "frozenset({1, 3, 5, 7, 9})    odds\n",
      "frozenset({2, 4, 6, 8, 10})   evens\n"
     ]
    }
   ],
   "source": [
    "# Printing the frozen sets directly\n",
    "for key, value in nums.items():\n",
    "    print(f'{str(key):<30}{value}')  "
   ]
  },
  {
   "cell_type": "code",
   "execution_count": 3,
   "id": "0e8f3ffb-cc96-4dfb-8830-b549f3b3ebb9",
   "metadata": {},
   "outputs": [
    {
     "name": "stdout",
     "output_type": "stream",
     "text": [
      "A = frozenset({1, 3, 5, 7, 9})\n",
      "B = frozenset({2, 4, 6, 8, 10})\n"
     ]
    }
   ],
   "source": [
    "print(f'A = {A}\\nB = {B}')"
   ]
  }
 ],
 "metadata": {
  "kernelspec": {
   "display_name": "Python 3 (ipykernel)",
   "language": "python",
   "name": "python3"
  },
  "language_info": {
   "codemirror_mode": {
    "name": "ipython",
    "version": 3
   },
   "file_extension": ".py",
   "mimetype": "text/x-python",
   "name": "python",
   "nbconvert_exporter": "python",
   "pygments_lexer": "ipython3",
   "version": "3.12.3"
  }
 },
 "nbformat": 4,
 "nbformat_minor": 5
}
