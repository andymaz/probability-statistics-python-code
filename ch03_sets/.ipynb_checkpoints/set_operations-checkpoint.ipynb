{
 "cells": [
  {
   "cell_type": "code",
   "execution_count": 1,
   "id": "3344fd10-23f9-4987-9b97-b425b4028f05",
   "metadata": {},
   "outputs": [
    {
     "name": "stdout",
     "output_type": "stream",
     "text": [
      "{1, 3, 5, 7, 9}\n",
      "{2, 4, 6, 8, 10}\n"
     ]
    }
   ],
   "source": [
    "# To create sets, A and B\n",
    "A = set()\n",
    "for n in range(1, 11):\n",
    "    if n%2==1:\n",
    "        A.add(n)\n",
    "\n",
    "# using list comprehension\n",
    "B = set(n for n in range(1, 11) if n%2==0)\n",
    "print(A) \n",
    "print(B)\n",
    "# A = {1, 3, 5, 7, 9}\n",
    "# B = {2, 4, 6, 8, 10}"
   ]
  },
  {
   "cell_type": "code",
   "execution_count": 2,
   "id": "634afedd-beea-444a-bf73-0973ab39ad81",
   "metadata": {},
   "outputs": [
    {
     "name": "stdout",
     "output_type": "stream",
     "text": [
      "{1, 2, 3, 4, 5, 6, 7, 8, 9, 10}\n"
     ]
    }
   ],
   "source": [
    "# set union\n",
    "C = A.union(B)\n",
    "print(C)\n",
    "# C = {1, 2, 3, 4, 5, 6, 7, 8, 9, 10}"
   ]
  },
  {
   "cell_type": "code",
   "execution_count": 3,
   "id": "3834a2c8-1fc2-4ab6-a8b6-bd20853514a2",
   "metadata": {},
   "outputs": [
    {
     "name": "stdout",
     "output_type": "stream",
     "text": [
      "{5, 7}\n"
     ]
    }
   ],
   "source": [
    "D = set(n for n in range(5, 8))\n",
    "# D = {5, 6, 7}\n",
    "E1 = A.intersection(D)\n",
    "print(E1)\n",
    "# E1 = {5, 7}"
   ]
  },
  {
   "cell_type": "code",
   "execution_count": 4,
   "id": "34740ea1-dd3e-40b8-9eee-09d97b6f243c",
   "metadata": {},
   "outputs": [
    {
     "name": "stdout",
     "output_type": "stream",
     "text": [
      "{5, 7}\n",
      "{2, 4, 5, 6, 7, 8, 10}\n"
     ]
    }
   ],
   "source": [
    "# We can also achieve set operations by side-effect\n",
    "A &= D\n",
    "print(A)\n",
    "# Now A = {5, 7}\n",
    "# returning A to its original value\n",
    "A = set(n for n in range(1, 11) if n%2==0)\n",
    "# A union D by side-effect\n",
    "A |= D\n",
    "print(A)\n",
    "# A = {1, 3, 5, 6, 7, 9}"
   ]
  }
 ],
 "metadata": {
  "kernelspec": {
   "display_name": "Python 3 (ipykernel)",
   "language": "python",
   "name": "python3"
  },
  "language_info": {
   "codemirror_mode": {
    "name": "ipython",
    "version": 3
   },
   "file_extension": ".py",
   "mimetype": "text/x-python",
   "name": "python",
   "nbconvert_exporter": "python",
   "pygments_lexer": "ipython3",
   "version": "3.12.3"
  }
 },
 "nbformat": 4,
 "nbformat_minor": 5
}
