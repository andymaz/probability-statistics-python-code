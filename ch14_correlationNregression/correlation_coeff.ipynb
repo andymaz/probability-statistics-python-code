{
 "cells": [
  {
   "cell_type": "code",
   "execution_count": 1,
   "id": "f0b5d8c8-581f-4acb-96e7-ef062d80cbee",
   "metadata": {},
   "outputs": [
    {
     "data": {
      "image/png": "[encoded data removed]",
      "text/plain": [
       "<Figure size 400x400 with 1 Axes>"
      ]
     },
     "metadata": {},
     "output_type": "display_data"
    },
    {
     "name": "stdout",
     "output_type": "stream",
     "text": [
      "0.9800970261590811\n"
     ]
    }
   ],
   "source": [
    "import numpy as np\n",
    "import matplotlib.pyplot as plt\n",
    "\n",
    "# Define data: x = 1 to 10, y = observed values\n",
    "x = np.arange(1, 11)\n",
    "y = np.array([2, 5, 6, 8, 10, 14, 15, 16, 18, 25])\n",
    "\n",
    "# Plot data (4x4 inches figure)\n",
    "plt.figure(figsize=(4, 4))\n",
    "plt.scatter(x, y, color='r')\n",
    "plt.xlabel('X')\n",
    "plt.ylabel('Y')\n",
    "plt.title('Scatter plot of X–Y data')\n",
    "plt.tight_layout()\n",
    "plt.savefig('img/simpleCorrelation.png', dpi=300)  # high-res\n",
    "plt.show()\n",
    "\n",
    "\n",
    "import numpy as np\n",
    "\n",
    "# Function to calculate the Pearson correlation coefficient\n",
    "def correlation_coefficient(x, y):\n",
    "    n = len(x)                   # Number of observations\n",
    "    sx = np.sum(x)               # Σx\n",
    "    sy = np.sum(y)               # Σy\n",
    "    sxy = np.sum(x * y)          # Σ(xy)\n",
    "    sx2 = np.sum(x**2)           # Σ(x^2)\n",
    "    sy2 = np.sum(y**2)           # Σ(y^2)\n",
    "\n",
    "    # Pearson correlation formula\n",
    "    return ((n * sxy) - (sx * sy)) / np.sqrt(\n",
    "        (n * sx2 - sx**2) * (n * sy2 - sy**2)\n",
    "    )\n",
    "\n",
    "# Example usage\n",
    "x = np.arange(1, 11)\n",
    "y = np.array([2, 5, 6, 8, 10, 14, 15, 16, 18, 25])\n",
    "\n",
    "print(correlation_coefficient(x, y))  \n",
    "\n"
   ]
  },
  {
   "cell_type": "code",
   "execution_count": 2,
   "id": "5af0d8e2-0b8d-4d4c-9fd3-2dd663aa614c",
   "metadata": {},
   "outputs": [
    {
     "name": "stdout",
     "output_type": "stream",
     "text": [
      "        x   y   xy  x^2  y^2\n",
      "index                       \n",
      "0       1   2    2    1    4\n",
      "1       2   5   10    4   25\n",
      "2       3   6   18    9   36\n",
      "3       4   8   32   16   64\n",
      "4       5  10   50   25  100\n",
      "5       6  14   84   36  196\n",
      "6       7  15  105   49  225\n",
      "7       8  16  128   64  256\n",
      "8       9  18  162   81  324\n",
      "9      10  25  250  100  625\n"
     ]
    }
   ],
   "source": [
    "import pandas as pd\n",
    "\n",
    "# Create DataFrame with values and intermediate calculations\n",
    "df = pd.DataFrame({\n",
    "    'x': x,\n",
    "    'y': y,\n",
    "    'xy': x * y,\n",
    "    'x^2': x**2,\n",
    "    'y^2': y**2\n",
    "})\n",
    "\n",
    "# Give the index column a label\n",
    "df.index.name = \"index\"\n",
    "\n",
    "print(df)"
   ]
  },
  {
   "cell_type": "code",
   "execution_count": null,
   "id": "99272358-4153-4357-a1c5-5884396b5ad1",
   "metadata": {},
   "outputs": [],
   "source": []
  }
 ],
 "metadata": {
  "kernelspec": {
   "display_name": "Python 3 (ipykernel)",
   "language": "python",
   "name": "python3"
  },
  "language_info": {
   "codemirror_mode": {
    "name": "ipython",
    "version": 3
   },
   "file_extension": ".py",
   "mimetype": "text/x-python",
   "name": "python",
   "nbconvert_exporter": "python",
   "pygments_lexer": "ipython3",
   "version": "3.12.3"
  }
 },
 "nbformat": 4,
 "nbformat_minor": 5
}
