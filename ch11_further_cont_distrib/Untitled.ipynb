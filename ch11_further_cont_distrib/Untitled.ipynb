{
 "cells": [
  {
   "cell_type": "code",
   "execution_count": 1,
   "id": "f38961d8-7c48-459c-8e12-d32d6a8e36d0",
   "metadata": {},
   "outputs": [
    {
     "name": "stdout",
     "output_type": "stream",
     "text": [
      "OLS predictions: [200. 244. 288. 332. 376.]\n",
      "MAE (OLS): 67.2\n",
      "Robust predictions: [182.79188322 219.3342208  255.87655837 292.41889595 328.96123353]\n",
      "MAE (Robust): 58.05855838656894\n"
     ]
    }
   ],
   "source": [
    "import numpy as np\n",
    "from sklearn.linear_model import LinearRegression\n",
    "from sklearn.metrics import mean_absolute_error\n",
    "\n",
    "# Toy dataset\n",
    "X = np.array([50, 60, 70, 80, 90]).reshape(-1,1)\n",
    "y = np.array([200, 220, 240, 500, 280])\n",
    "\n",
    "# Fit ordinary least squares (for comparison)\n",
    "ols = LinearRegression()\n",
    "ols.fit(X, y)\n",
    "y_pred_ols = ols.predict(X)\n",
    "\n",
    "# Compute MAE\n",
    "mae_ols = mean_absolute_error(y, y_pred_ols)\n",
    "print(f\"OLS predictions: {y_pred_ols}\")\n",
    "print(f\"MAE (OLS): {mae_ols}\")\n",
    "\n",
    "# Fit robust regression (Laplace likelihood equivalent)\n",
    "# Using L1 loss with sklearn's SGDRegressor\n",
    "from sklearn.linear_model import SGDRegressor\n",
    "\n",
    "robust = SGDRegressor(loss='epsilon_insensitive', alpha=0, max_iter=1000, tol=1e-3)\n",
    "robust.fit(X, y)\n",
    "y_pred_robust = robust.predict(X)\n",
    "\n",
    "mae_robust = mean_absolute_error(y, y_pred_robust)\n",
    "print(f\"Robust predictions: {y_pred_robust}\")\n",
    "print(f\"MAE (Robust): {mae_robust}\")\n"
   ]
  },
  {
   "cell_type": "code",
   "execution_count": null,
   "id": "6ceaca57-f22a-4fe8-96b2-b7aaa055c669",
   "metadata": {},
   "outputs": [],
   "source": []
  }
 ],
 "metadata": {
  "kernelspec": {
   "display_name": "Python 3 (ipykernel)",
   "language": "python",
   "name": "python3"
  },
  "language_info": {
   "codemirror_mode": {
    "name": "ipython",
    "version": 3
   },
   "file_extension": ".py",
   "mimetype": "text/x-python",
   "name": "python",
   "nbconvert_exporter": "python",
   "pygments_lexer": "ipython3",
   "version": "3.12.3"
  }
 },
 "nbformat": 4,
 "nbformat_minor": 5
}
