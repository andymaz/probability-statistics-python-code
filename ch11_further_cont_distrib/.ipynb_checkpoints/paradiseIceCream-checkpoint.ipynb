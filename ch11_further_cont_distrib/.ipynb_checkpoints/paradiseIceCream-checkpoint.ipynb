{
 "cells": [
  {
   "cell_type": "code",
   "execution_count": 1,
   "id": "6e7f7616-07f5-4670-a455-7f6b74644d1e",
   "metadata": {},
   "outputs": [
    {
     "name": "stdout",
     "output_type": "stream",
     "text": [
      "P(X < 3) = 0.5276\n",
      "P(4 < X < 7) = 0.1941\n",
      "P(X > 10) = 0.0821\n"
     ]
    }
   ],
   "source": [
    "import numpy as np\n",
    "from scipy.stats import expon\n",
    "\n",
    "# For Exp(λ) with λ = 0.25, the mean is μ = 1/λ = 4 minutes\n",
    "# In scipy, we use scale = μ = 4\n",
    "\n",
    "# (i) P(X < 3)\n",
    "print(f\"P(X < 3) = {expon.cdf(3, scale=4):.4f}\")  \n",
    "\n",
    "# (ii) P(4 < X < 7)\n",
    "print(f\"P(4 < X < 7) = {expon.cdf(7, scale=4) - expon.cdf(4, scale=4):.4f}\")  \n",
    "\n",
    "# (iii) P(X > 10)\n",
    "print(f\"P(X > 10) = {1 - expon.cdf(10, scale=4):.4f}\")  "
   ]
  },
  {
   "cell_type": "code",
   "execution_count": null,
   "id": "b0170a88-c530-4470-a943-1af6694a6198",
   "metadata": {},
   "outputs": [],
   "source": []
  }
 ],
 "metadata": {
  "kernelspec": {
   "display_name": "Python 3 (ipykernel)",
   "language": "python",
   "name": "python3"
  },
  "language_info": {
   "codemirror_mode": {
    "name": "ipython",
    "version": 3
   },
   "file_extension": ".py",
   "mimetype": "text/x-python",
   "name": "python",
   "nbconvert_exporter": "python",
   "pygments_lexer": "ipython3",
   "version": "3.12.3"
  }
 },
 "nbformat": 4,
 "nbformat_minor": 5
}
