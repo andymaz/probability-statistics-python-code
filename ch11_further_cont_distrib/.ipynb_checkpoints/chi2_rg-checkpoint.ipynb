{
 "cells": [
  {
   "cell_type": "code",
   "execution_count": 1,
   "id": "a4f560c7-e48b-4694-9cd0-7f86159565e3",
   "metadata": {},
   "outputs": [
    {
     "data": {
      "image/png": "[encoded data removed]",
      "text/plain": [
       "<Figure size 500x300 with 1 Axes>"
      ]
     },
     "metadata": {},
     "output_type": "display_data"
    }
   ],
   "source": [
    "from scipy.stats import chi2 \n",
    "import matplotlib.pyplot as plt\n",
    "import numpy as np\n",
    "\n",
    "# Degrees of freedom\n",
    "k = 5\n",
    "dist = chi2(k) \n",
    "\n",
    "# Define x-axis range and PDF values\n",
    "xs = np.linspace(0, 20, 200)\n",
    "ys = dist.pdf(xs)\n",
    "\n",
    "# Create figure\n",
    "fig, ax = plt.subplots(1, 1, figsize=(5, 3))\n",
    "\n",
    "# Plot the chi-square PDF\n",
    "ax.plot(xs, ys)\n",
    "ax.set_xticks([])\n",
    "ax.set_yticks([])\n",
    "\n",
    "# Shade left tail region (red)\n",
    "ax.fill_between(\n",
    "        x=xs, y1=ys, \n",
    "        where=(xs < 2),\n",
    "        color=\"red\", alpha=0.3)\n",
    "\n",
    "# Shade right tail region (green)\n",
    "ax.fill_between(\n",
    "        x=xs, y1=ys, \n",
    "        where=(xs > 10),\n",
    "        color=\"green\", alpha=0.3)\n",
    "\n",
    "# Draw axes\n",
    "ax.axhline(y=0, color='k', linewidth=0.7)\n",
    "ax.axvline(x=0, color='k', linewidth=0.7)\n",
    "\n",
    "# Mark critical values l and r\n",
    "ax.plot(1.9, 0, 'bo')   # left critical value\n",
    "ax.plot(10, 0, 'mo')    # right critical value\n",
    "\n",
    "# Add secondary x-axis with labels for l and r\n",
    "sec = ax.secondary_xaxis(location=0)\n",
    "sec.set_xticks([2, 10], labels=['l', 'r'])\n",
    "\n",
    "plt.tight_layout()  \n",
    "\n",
    "# Save and show figure\n",
    "fig.savefig('img/chi2_red_green_5.png')\n",
    "plt.show()\n"
   ]
  },
  {
   "cell_type": "code",
   "execution_count": 4,
   "id": "c7114108-dde4-4675-8004-148fb9735384",
   "metadata": {},
   "outputs": [
    {
     "name": "stdout",
     "output_type": "stream",
     "text": [
      "11.070\n"
     ]
    }
   ],
   "source": [
    "print(f'{chi2.ppf(1-0.05, df=5):0.3f}')"
   ]
  },
  {
   "cell_type": "code",
   "execution_count": 5,
   "id": "b9a952cf-c012-491e-9ca1-7694fc4bca3c",
   "metadata": {},
   "outputs": [
    {
     "name": "stdout",
     "output_type": "stream",
     "text": [
      "l = 0.8312\t r = 12.8325\n"
     ]
    }
   ],
   "source": [
    "dist = chi2(5)\n",
    "left, right = dist.interval(0.95)\n",
    "print(f'l = {left:0.4f}\\t r = {right:0.4f}')"
   ]
  },
  {
   "cell_type": "code",
   "execution_count": 6,
   "id": "01f73e25-8622-4bd1-ae0d-596247f276a9",
   "metadata": {},
   "outputs": [
    {
     "name": "stdout",
     "output_type": "stream",
     "text": [
      "1.610\n"
     ]
    }
   ],
   "source": [
    "print(f'{chi2.ppf(0.1, df=5):0.3f}')"
   ]
  },
  {
   "cell_type": "code",
   "execution_count": 7,
   "id": "8a8c2bc2-9974-4109-a55d-86a10804a7d4",
   "metadata": {},
   "outputs": [
    {
     "name": "stdout",
     "output_type": "stream",
     "text": [
      "15.086\n"
     ]
    }
   ],
   "source": [
    "print(f'{chi2.ppf(1- 0.01, df=5):0.3f}')"
   ]
  },
  {
   "cell_type": "code",
   "execution_count": null,
   "id": "9f07938c-32a8-4674-9da0-ebb3059d802d",
   "metadata": {},
   "outputs": [],
   "source": []
  }
 ],
 "metadata": {
  "kernelspec": {
   "display_name": "Python 3 (ipykernel)",
   "language": "python",
   "name": "python3"
  },
  "language_info": {
   "codemirror_mode": {
    "name": "ipython",
    "version": 3
   },
   "file_extension": ".py",
   "mimetype": "text/x-python",
   "name": "python",
   "nbconvert_exporter": "python",
   "pygments_lexer": "ipython3",
   "version": "3.12.3"
  }
 },
 "nbformat": 4,
 "nbformat_minor": 5
}
