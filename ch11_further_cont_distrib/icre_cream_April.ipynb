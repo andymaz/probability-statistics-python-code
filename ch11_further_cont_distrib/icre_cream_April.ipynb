{
 "cells": [
  {
   "cell_type": "code",
   "execution_count": 1,
   "id": "b8bffc95-4638-470d-9377-e52bd00f2f2e",
   "metadata": {},
   "outputs": [
    {
     "name": "stdout",
     "output_type": "stream",
     "text": [
      "0.5595\n"
     ]
    }
   ],
   "source": [
    "from scipy.stats import gamma\n",
    "\n",
    "theta = 3\n",
    "alpha = 5\n",
    "print(f'{gamma.cdf(15, alpha, scale=theta):0.4f}')\n",
    "\n",
    "# output\n",
    "# 0.5595"
   ]
  },
  {
   "cell_type": "code",
   "execution_count": 2,
   "id": "d868af23-db6a-455f-bf87-14ca170a5e42",
   "metadata": {},
   "outputs": [
    {
     "name": "stdout",
     "output_type": "stream",
     "text": [
      "0.0446\n"
     ]
    }
   ],
   "source": [
    "from scipy.stats import poisson\n",
    "\n",
    "# Compute the probability of exactly 25 arrivals\n",
    "print(f'{poisson.pmf(25, 20):0.4f}')\n"
   ]
  },
  {
   "cell_type": "code",
   "execution_count": null,
   "id": "b3a7a8ea-0feb-4adf-bb9a-0e9f38d06c4d",
   "metadata": {},
   "outputs": [],
   "source": []
  }
 ],
 "metadata": {
  "kernelspec": {
   "display_name": "Python 3 (ipykernel)",
   "language": "python",
   "name": "python3"
  },
  "language_info": {
   "codemirror_mode": {
    "name": "ipython",
    "version": 3
   },
   "file_extension": ".py",
   "mimetype": "text/x-python",
   "name": "python",
   "nbconvert_exporter": "python",
   "pygments_lexer": "ipython3",
   "version": "3.12.3"
  }
 },
 "nbformat": 4,
 "nbformat_minor": 5
}
