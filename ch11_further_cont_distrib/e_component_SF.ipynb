{
 "cells": [
  {
   "cell_type": "code",
   "execution_count": 1,
   "id": "50384c1d-a5a2-49b3-be7d-dce631a1a953",
   "metadata": {},
   "outputs": [
    {
     "name": "stdout",
     "output_type": "stream",
     "text": [
      "P(X > 5 | X > 3) = 0.6703\n"
     ]
    }
   ],
   "source": [
    "from scipy.stats import expon\n",
    "\n",
    "lam = 0.2\n",
    "scale = 1 / lam  # mean lifetime\n",
    "\n",
    "# Conditional probability: P(X > 5 | X > 3) = P(X > 5) / P(X > 3)\n",
    "# expon.sf(x, scale=...) calls the survival function P(X > x)\n",
    "p5 = expon.sf(5, scale=scale)  # P(X > 5)\n",
    "p3 = expon.sf(3, scale=scale)  # P(X > 3)\n",
    "\n",
    "conditional_prob = p5 / p3\n",
    "print(f\"P(X > 5 | X > 3) = {conditional_prob:.4f}\")"
   ]
  }
 ],
 "metadata": {
  "kernelspec": {
   "display_name": "Python 3 (ipykernel)",
   "language": "python",
   "name": "python3"
  },
  "language_info": {
   "codemirror_mode": {
    "name": "ipython",
    "version": 3
   },
   "file_extension": ".py",
   "mimetype": "text/x-python",
   "name": "python",
   "nbconvert_exporter": "python",
   "pygments_lexer": "ipython3",
   "version": "3.12.3"
  }
 },
 "nbformat": 4,
 "nbformat_minor": 5
}
