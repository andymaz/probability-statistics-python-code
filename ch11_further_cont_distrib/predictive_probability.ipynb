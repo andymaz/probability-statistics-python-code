{
 "cells": [
  {
   "cell_type": "code",
   "execution_count": 1,
   "id": "d1623759-9942-48c2-bbce-608dbe3821a6",
   "metadata": {},
   "outputs": [
    {
     "name": "stdout",
     "output_type": "stream",
     "text": [
      "Posterior mean recovery probability = 0.6830\n",
      "Predictive probability for a new patient = 0.6830\n"
     ]
    }
   ],
   "source": [
    "from scipy.stats import beta\n",
    "\n",
    "# Prior from observed data\n",
    "a_prior = 174\n",
    "b_prior = 81\n",
    "\n",
    "# New trial results: 10 patients, 7 recover\n",
    "new_successes = 7\n",
    "new_failures = 3\n",
    "\n",
    "# Posterior parameters\n",
    "a_post = a_prior + new_successes\n",
    "b_post = b_prior + new_failures\n",
    "\n",
    "# Posterior mean recovery probability\n",
    "posterior_mean = a_post / (a_post + b_post)\n",
    "print(f'Posterior mean recovery probability = {posterior_mean:0.4f}')\n",
    "\n",
    "# Predictive probability for next patient\n",
    "pred_prob = posterior_mean\n",
    "print(f'Predictive probability for a new patient = {pred_prob:0.4f}')"
   ]
  },
  {
   "cell_type": "code",
   "execution_count": null,
   "id": "cc8e7565-17fc-4b62-b7b5-03036b017293",
   "metadata": {},
   "outputs": [],
   "source": []
  }
 ],
 "metadata": {
  "kernelspec": {
   "display_name": "Python 3 (ipykernel)",
   "language": "python",
   "name": "python3"
  },
  "language_info": {
   "codemirror_mode": {
    "name": "ipython",
    "version": 3
   },
   "file_extension": ".py",
   "mimetype": "text/x-python",
   "name": "python",
   "nbconvert_exporter": "python",
   "pygments_lexer": "ipython3",
   "version": "3.12.3"
  }
 },
 "nbformat": 4,
 "nbformat_minor": 5
}
