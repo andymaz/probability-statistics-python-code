{
 "cells": [
  {
   "cell_type": "code",
   "execution_count": 1,
   "id": "16d3bd93-4f97-470e-9405-df8f58edc44a",
   "metadata": {},
   "outputs": [
    {
     "name": "stdout",
     "output_type": "stream",
     "text": [
      "Upper 1% quantile t_0.01(15): 2.602\n",
      "95% quantile t_0.95(15): 1.753\n",
      "P(-1.753 <= T <= 1.753): 0.90\n"
     ]
    }
   ],
   "source": [
    "from scipy.stats import t\n",
    "\n",
    "# i) Upper 1% quantile\n",
    "t_upper_1 = t.ppf(0.99, 15)\n",
    "print(f'Upper 1% quantile t_0.01(15): {t_upper_1:.3f}')\n",
    "\n",
    "\n",
    "# ii) 95% quantile\n",
    "t_95 = t.ppf(0.95, 15)\n",
    "print(f'95% quantile t_0.95(15): {t_95:.3f}')\n",
    "\n",
    "\n",
    "# iii) Probability P(-1.753 <= T <= 1.753)\n",
    "prob = t.cdf(1.753, 15) - t.cdf(-1.753, 15)\n",
    "print(f'P(-1.753 <= T <= 1.753): {prob:.2f}')\n"
   ]
  }
 ],
 "metadata": {
  "kernelspec": {
   "display_name": "Python 3 (ipykernel)",
   "language": "python",
   "name": "python3"
  },
  "language_info": {
   "codemirror_mode": {
    "name": "ipython",
    "version": 3
   },
   "file_extension": ".py",
   "mimetype": "text/x-python",
   "name": "python",
   "nbconvert_exporter": "python",
   "pygments_lexer": "ipython3",
   "version": "3.12.3"
  }
 },
 "nbformat": 4,
 "nbformat_minor": 5
}
