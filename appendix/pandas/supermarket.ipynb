{
 "cells": [
  {
   "cell_type": "code",
   "execution_count": 1,
   "id": "5ed0715f-1461-46cd-9187-e0dbd594dfa1",
   "metadata": {},
   "outputs": [
    {
     "data": {
      "text/html": [
       "<div>\n",
       "<style scoped>\n",
       "    .dataframe tbody tr th:only-of-type {\n",
       "        vertical-align: middle;\n",
       "    }\n",
       "\n",
       "    .dataframe tbody tr th {\n",
       "        vertical-align: top;\n",
       "    }\n",
       "\n",
       "    .dataframe thead th {\n",
       "        text-align: right;\n",
       "    }\n",
       "</style>\n",
       "<table border=\"1\" class=\"dataframe\">\n",
       "  <thead>\n",
       "    <tr style=\"text-align: right;\">\n",
       "      <th></th>\n",
       "      <th>apple</th>\n",
       "      <th>orange</th>\n",
       "      <th>banana</th>\n",
       "      <th>mean row</th>\n",
       "    </tr>\n",
       "  </thead>\n",
       "  <tbody>\n",
       "    <tr>\n",
       "      <th>maxfood</th>\n",
       "      <td>1.05</td>\n",
       "      <td>1.20</td>\n",
       "      <td>0.95</td>\n",
       "      <td>1.07</td>\n",
       "    </tr>\n",
       "    <tr>\n",
       "      <th>local</th>\n",
       "      <td>1.15</td>\n",
       "      <td>1.25</td>\n",
       "      <td>0.85</td>\n",
       "      <td>1.08</td>\n",
       "    </tr>\n",
       "    <tr>\n",
       "      <th>crust</th>\n",
       "      <td>1.10</td>\n",
       "      <td>1.35</td>\n",
       "      <td>0.75</td>\n",
       "      <td>1.07</td>\n",
       "    </tr>\n",
       "    <tr>\n",
       "      <th>mean col</th>\n",
       "      <td>1.10</td>\n",
       "      <td>1.27</td>\n",
       "      <td>0.85</td>\n",
       "      <td>1.07</td>\n",
       "    </tr>\n",
       "  </tbody>\n",
       "</table>\n",
       "</div>"
      ],
      "text/plain": [
       "          apple  orange  banana  mean row\n",
       "maxfood    1.05    1.20    0.95      1.07\n",
       "local      1.15    1.25    0.85      1.08\n",
       "crust      1.10    1.35    0.75      1.07\n",
       "mean col   1.10    1.27    0.85      1.07"
      ]
     },
     "execution_count": 1,
     "metadata": {},
     "output_type": "execute_result"
    }
   ],
   "source": [
    "import pandas as pd\n",
    "import numpy as np\n",
    "\n",
    "# The price of apple, orange and banana \n",
    "# in supermarkets maxfood, local, crust\n",
    "df = pd.DataFrame(\n",
    "    {'apple':  [1.05, 1.15, 1.10],\n",
    "     'orange': [1.20, 1.25, 1.35],\n",
    "     'banana': [0.95, 0.85, 0.75]}, index=['maxfood', 'local', 'crust'])\n",
    "\n",
    "twoDecimal = lambda x: float(f'{x:0.2f}')\n",
    "\n",
    "pd.options.display.float_format = '{:.2f}'.format\n",
    "\n",
    "# mean price for the three fruits in each supermarket \n",
    "df['mean row'] = df.mean(axis=1)\n",
    "\n",
    "# mean price for each fruit across the three supermarkets\n",
    "df.loc['mean col'] = df.mean(axis=0)\n",
    "\n",
    "# Display the completed table with marginals\n",
    "df"
   ]
  },
  {
   "cell_type": "code",
   "execution_count": null,
   "id": "c7aaeacb-5dd7-44c1-8620-c331af33124e",
   "metadata": {},
   "outputs": [],
   "source": []
  }
 ],
 "metadata": {
  "kernelspec": {
   "display_name": "Python 3 (ipykernel)",
   "language": "python",
   "name": "python3"
  },
  "language_info": {
   "codemirror_mode": {
    "name": "ipython",
    "version": 3
   },
   "file_extension": ".py",
   "mimetype": "text/x-python",
   "name": "python",
   "nbconvert_exporter": "python",
   "pygments_lexer": "ipython3",
   "version": "3.12.3"
  }
 },
 "nbformat": 4,
 "nbformat_minor": 5
}
