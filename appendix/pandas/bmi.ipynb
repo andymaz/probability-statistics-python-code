{
 "cells": [
  {
   "cell_type": "code",
   "execution_count": 1,
   "id": "fcaeaeea-efea-4bbe-a783-8cbf38e949e5",
   "metadata": {},
   "outputs": [],
   "source": [
    "# --- Constructing a DataFrame with weight/height data ---\n",
    "import pandas as pd"
   ]
  },
  {
   "cell_type": "code",
   "execution_count": 2,
   "id": "8a24b8ea-8e51-4dbd-8d09-5db1dc0c8da3",
   "metadata": {},
   "outputs": [
    {
     "data": {
      "text/html": [
       "<div>\n",
       "<style scoped>\n",
       "    .dataframe tbody tr th:only-of-type {\n",
       "        vertical-align: middle;\n",
       "    }\n",
       "\n",
       "    .dataframe tbody tr th {\n",
       "        vertical-align: top;\n",
       "    }\n",
       "\n",
       "    .dataframe thead th {\n",
       "        text-align: right;\n",
       "    }\n",
       "</style>\n",
       "<table border=\"1\" class=\"dataframe\">\n",
       "  <thead>\n",
       "    <tr style=\"text-align: right;\">\n",
       "      <th></th>\n",
       "      <th>name</th>\n",
       "      <th>gender</th>\n",
       "      <th>weight</th>\n",
       "      <th>height</th>\n",
       "    </tr>\n",
       "  </thead>\n",
       "  <tbody>\n",
       "    <tr>\n",
       "      <th>0</th>\n",
       "      <td>max</td>\n",
       "      <td>male</td>\n",
       "      <td>80</td>\n",
       "      <td>175</td>\n",
       "    </tr>\n",
       "    <tr>\n",
       "      <th>1</th>\n",
       "      <td>sue</td>\n",
       "      <td>female</td>\n",
       "      <td>65</td>\n",
       "      <td>165</td>\n",
       "    </tr>\n",
       "    <tr>\n",
       "      <th>2</th>\n",
       "      <td>rob</td>\n",
       "      <td>male</td>\n",
       "      <td>90</td>\n",
       "      <td>190</td>\n",
       "    </tr>\n",
       "  </tbody>\n",
       "</table>\n",
       "</div>"
      ],
      "text/plain": [
       "  name  gender  weight  height\n",
       "0  max    male      80     175\n",
       "1  sue  female      65     165\n",
       "2  rob    male      90     190"
      ]
     },
     "execution_count": 2,
     "metadata": {},
     "output_type": "execute_result"
    }
   ],
   "source": [
    "people = pd.DataFrame({'name': ['max', 'sue', 'rob'],\n",
    "                       'gender': ['male', 'female', 'male'],\n",
    "                       'weight': [80, 65, 90],\n",
    "                       'height': [175, 165, 190]})\n",
    "people"
   ]
  },
  {
   "cell_type": "code",
   "execution_count": 3,
   "id": "282639f9-c09a-42ba-a0be-62fe9ca40809",
   "metadata": {},
   "outputs": [
    {
     "data": {
      "text/html": [
       "<div>\n",
       "<style scoped>\n",
       "    .dataframe tbody tr th:only-of-type {\n",
       "        vertical-align: middle;\n",
       "    }\n",
       "\n",
       "    .dataframe tbody tr th {\n",
       "        vertical-align: top;\n",
       "    }\n",
       "\n",
       "    .dataframe thead th {\n",
       "        text-align: right;\n",
       "    }\n",
       "</style>\n",
       "<table border=\"1\" class=\"dataframe\">\n",
       "  <thead>\n",
       "    <tr style=\"text-align: right;\">\n",
       "      <th></th>\n",
       "      <th>name</th>\n",
       "      <th>gender</th>\n",
       "      <th>weight</th>\n",
       "      <th>height</th>\n",
       "      <th>bmi</th>\n",
       "    </tr>\n",
       "  </thead>\n",
       "  <tbody>\n",
       "    <tr>\n",
       "      <th>0</th>\n",
       "      <td>max</td>\n",
       "      <td>male</td>\n",
       "      <td>80</td>\n",
       "      <td>175</td>\n",
       "      <td>26.122449</td>\n",
       "    </tr>\n",
       "    <tr>\n",
       "      <th>1</th>\n",
       "      <td>sue</td>\n",
       "      <td>female</td>\n",
       "      <td>65</td>\n",
       "      <td>165</td>\n",
       "      <td>23.875115</td>\n",
       "    </tr>\n",
       "    <tr>\n",
       "      <th>2</th>\n",
       "      <td>rob</td>\n",
       "      <td>male</td>\n",
       "      <td>90</td>\n",
       "      <td>190</td>\n",
       "      <td>24.930748</td>\n",
       "    </tr>\n",
       "  </tbody>\n",
       "</table>\n",
       "</div>"
      ],
      "text/plain": [
       "  name  gender  weight  height        bmi\n",
       "0  max    male      80     175  26.122449\n",
       "1  sue  female      65     165  23.875115\n",
       "2  rob    male      90     190  24.930748"
      ]
     },
     "execution_count": 3,
     "metadata": {},
     "output_type": "execute_result"
    }
   ],
   "source": [
    "# --- Direct column computation of BMI ---\n",
    "people['bmi'] = people['weight'] / ((people['height'] / 100) ** 2)\n",
    "\n",
    "people"
   ]
  },
  {
   "cell_type": "code",
   "execution_count": 4,
   "id": "4138ac2f-cdae-4f37-a50f-26f9986e24eb",
   "metadata": {},
   "outputs": [],
   "source": [
    "simpsons = pd.DataFrame({'name': ['homer', 'grampa', 'marge'],\n",
    "                       'gender': ['male', 'male', 'female'],\n",
    "                       'weight': [105, 90, 70],\n",
    "                       'height': [185, 175, 165]})"
   ]
  },
  {
   "cell_type": "code",
   "execution_count": 5,
   "id": "2d86a5b8-2d2e-4b96-abd2-b6312262020d",
   "metadata": {},
   "outputs": [
    {
     "data": {
      "text/html": [
       "<div>\n",
       "<style scoped>\n",
       "    .dataframe tbody tr th:only-of-type {\n",
       "        vertical-align: middle;\n",
       "    }\n",
       "\n",
       "    .dataframe tbody tr th {\n",
       "        vertical-align: top;\n",
       "    }\n",
       "\n",
       "    .dataframe thead th {\n",
       "        text-align: right;\n",
       "    }\n",
       "</style>\n",
       "<table border=\"1\" class=\"dataframe\">\n",
       "  <thead>\n",
       "    <tr style=\"text-align: right;\">\n",
       "      <th></th>\n",
       "      <th>name</th>\n",
       "      <th>gender</th>\n",
       "      <th>weight</th>\n",
       "      <th>height</th>\n",
       "      <th>bmi</th>\n",
       "    </tr>\n",
       "  </thead>\n",
       "  <tbody>\n",
       "    <tr>\n",
       "      <th>0</th>\n",
       "      <td>homer</td>\n",
       "      <td>male</td>\n",
       "      <td>105</td>\n",
       "      <td>185</td>\n",
       "      <td>30.679328</td>\n",
       "    </tr>\n",
       "    <tr>\n",
       "      <th>1</th>\n",
       "      <td>grampa</td>\n",
       "      <td>male</td>\n",
       "      <td>90</td>\n",
       "      <td>175</td>\n",
       "      <td>29.387755</td>\n",
       "    </tr>\n",
       "    <tr>\n",
       "      <th>2</th>\n",
       "      <td>marge</td>\n",
       "      <td>female</td>\n",
       "      <td>70</td>\n",
       "      <td>165</td>\n",
       "      <td>25.711662</td>\n",
       "    </tr>\n",
       "  </tbody>\n",
       "</table>\n",
       "</div>"
      ],
      "text/plain": [
       "     name  gender  weight  height        bmi\n",
       "0   homer    male     105     185  30.679328\n",
       "1  grampa    male      90     175  29.387755\n",
       "2   marge  female      70     165  25.711662"
      ]
     },
     "execution_count": 5,
     "metadata": {},
     "output_type": "execute_result"
    }
   ],
   "source": [
    "# --- Function-based computation of BMI ---\n",
    "def bmi_calculator(w, h):\n",
    "    return w / ((h / 100) ** 2)\n",
    "\n",
    "# Compute BMI for each person\n",
    "simpsons['bmi'] = bmi_calculator(simpsons['weight'], simpsons['height'])\n",
    "\n",
    "simpsons"
   ]
  },
  {
   "cell_type": "code",
   "execution_count": 6,
   "id": "462ec324-a0d3-48d5-8716-fdeef5d5b285",
   "metadata": {},
   "outputs": [
    {
     "data": {
      "text/html": [
       "<div>\n",
       "<style scoped>\n",
       "    .dataframe tbody tr th:only-of-type {\n",
       "        vertical-align: middle;\n",
       "    }\n",
       "\n",
       "    .dataframe tbody tr th {\n",
       "        vertical-align: top;\n",
       "    }\n",
       "\n",
       "    .dataframe thead th {\n",
       "        text-align: right;\n",
       "    }\n",
       "</style>\n",
       "<table border=\"1\" class=\"dataframe\">\n",
       "  <thead>\n",
       "    <tr style=\"text-align: right;\">\n",
       "      <th></th>\n",
       "      <th>name</th>\n",
       "      <th>gender</th>\n",
       "      <th>weight</th>\n",
       "      <th>height</th>\n",
       "      <th>bmi</th>\n",
       "    </tr>\n",
       "  </thead>\n",
       "  <tbody>\n",
       "    <tr>\n",
       "      <th>0</th>\n",
       "      <td>homer</td>\n",
       "      <td>male</td>\n",
       "      <td>105</td>\n",
       "      <td>185</td>\n",
       "      <td>30.7</td>\n",
       "    </tr>\n",
       "    <tr>\n",
       "      <th>1</th>\n",
       "      <td>grampa</td>\n",
       "      <td>male</td>\n",
       "      <td>90</td>\n",
       "      <td>175</td>\n",
       "      <td>29.4</td>\n",
       "    </tr>\n",
       "    <tr>\n",
       "      <th>2</th>\n",
       "      <td>marge</td>\n",
       "      <td>female</td>\n",
       "      <td>70</td>\n",
       "      <td>165</td>\n",
       "      <td>25.7</td>\n",
       "    </tr>\n",
       "  </tbody>\n",
       "</table>\n",
       "</div>"
      ],
      "text/plain": [
       "     name  gender  weight  height   bmi\n",
       "0   homer    male     105     185  30.7\n",
       "1  grampa    male      90     175  29.4\n",
       "2   marge  female      70     165  25.7"
      ]
     },
     "execution_count": 6,
     "metadata": {},
     "output_type": "execute_result"
    }
   ],
   "source": [
    "# --- Rounding BMI values to 1 decimal place ---\n",
    "simpsons['bmi'] = simpsons['bmi'].apply(lambda x: float(f'{x:0.1f}'))\n",
    "\n",
    "simpsons"
   ]
  },
  {
   "cell_type": "code",
   "execution_count": null,
   "id": "f5210bca-8833-4ef5-9d9a-b86c904b9dcf",
   "metadata": {},
   "outputs": [],
   "source": []
  }
 ],
 "metadata": {
  "kernelspec": {
   "display_name": "Python 3 (ipykernel)",
   "language": "python",
   "name": "python3"
  },
  "language_info": {
   "codemirror_mode": {
    "name": "ipython",
    "version": 3
   },
   "file_extension": ".py",
   "mimetype": "text/x-python",
   "name": "python",
   "nbconvert_exporter": "python",
   "pygments_lexer": "ipython3",
   "version": "3.12.3"
  }
 },
 "nbformat": 4,
 "nbformat_minor": 5
}
