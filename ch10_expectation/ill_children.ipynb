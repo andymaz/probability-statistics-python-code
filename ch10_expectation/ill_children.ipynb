{
 "cells": [
  {
   "cell_type": "code",
   "execution_count": 1,
   "id": "f18b3802-1a25-4621-9f1c-d7e7ece61af1",
   "metadata": {},
   "outputs": [
    {
     "name": "stdout",
     "output_type": "stream",
     "text": [
      "mu = 2.60\n",
      "variance = 3.64\n"
     ]
    }
   ],
   "source": [
    "import pandas as pd\n",
    "\n",
    "df = pd.DataFrame({'x': [0, 1, 2, 5, 6], \n",
    "                   'f(x)': [0.1, 0.2, 0.4, 0.2, 0.1]})\n",
    "                   \n",
    "# Calculate mean\n",
    "mu = sum(df['x'] * df['f(x)'])\n",
    "print(f'mu = {mu:0.2f}')\n",
    "# mu = 2.60\n",
    "\n",
    "# Calculate variance\n",
    "variance = sum((df['x'] - mu)**2 * df['f(x)'])\n",
    "print(f'variance = {variance:0.2f}')"
   ]
  },
  {
   "cell_type": "code",
   "execution_count": 2,
   "id": "8f8ae6b7-ace2-4e68-9ae4-77196baa7d99",
   "metadata": {},
   "outputs": [
    {
     "name": "stdout",
     "output_type": "stream",
     "text": [
      "mu = 2.60\n",
      "variance = 3.64\n"
     ]
    }
   ],
   "source": [
    "# import pandas as pd\n",
    "\n",
    "# create DataFrame for absentee children\n",
    "df = pd.DataFrame({'x': [0, 1, 2, 5, 6], \n",
    "                   'f(x)': [0.1, 0.2, 0.4, 0.2, 0.1]})\n",
    "\n",
    "# calculate mean\n",
    "mu = sum(df['x'] * df['f(x)'])\n",
    "print(f'mu = {mu:0.2f}')\n",
    "# mu = 2.60\n",
    "\n",
    "# calculate variance using E(X^2) - mu^2\n",
    "variance = sum(df['x'] ** 2 * df['f(x)']) - mu ** 2\n",
    "print(f'variance = {variance:0.2f}')\n"
   ]
  }
 ],
 "metadata": {
  "kernelspec": {
   "display_name": "Python 3 (ipykernel)",
   "language": "python",
   "name": "python3"
  },
  "language_info": {
   "codemirror_mode": {
    "name": "ipython",
    "version": 3
   },
   "file_extension": ".py",
   "mimetype": "text/x-python",
   "name": "python",
   "nbconvert_exporter": "python",
   "pygments_lexer": "ipython3",
   "version": "3.12.3"
  }
 },
 "nbformat": 4,
 "nbformat_minor": 5
}
