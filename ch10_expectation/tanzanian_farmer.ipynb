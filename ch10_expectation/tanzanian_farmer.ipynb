{
 "cells": [
  {
   "cell_type": "code",
   "execution_count": 1,
   "id": "13e037ba-fc52-4d53-b35c-330c1bd341a8",
   "metadata": {},
   "outputs": [
    {
     "name": "stdout",
     "output_type": "stream",
     "text": [
      "E[g(X)] = 168.86\n"
     ]
    }
   ],
   "source": [
    "# Possible banana yields (in 1000 kg)\n",
    "xs = [5, 6, 7, 8, 9, 10, 12]\n",
    "\n",
    "# Corresponding probabilities of each yield\n",
    "ps = [1/15, 1/5, 4/15, 1/5, 2/15, 1/15, 1/15]\n",
    "\n",
    "# Cost function g(X) = (27*X^2)/10 + 2\n",
    "g = lambda x: (27*(x**2))/10 + 2\n",
    "\n",
    "# Compute expected value: sum over g(x)*P(X=x)\n",
    "mu = sum([g(x)*p for x, p in zip(xs, ps)])\n",
    "\n",
    "# Display result rounded to two decimals\n",
    "print(f'E[g(X)] = {mu:0.2f}')"
   ]
  },
  {
   "cell_type": "code",
   "execution_count": null,
   "id": "12dfe3df-42bc-4873-ba4a-9da51e8bd844",
   "metadata": {},
   "outputs": [],
   "source": []
  }
 ],
 "metadata": {
  "kernelspec": {
   "display_name": "Python 3 (ipykernel)",
   "language": "python",
   "name": "python3"
  },
  "language_info": {
   "codemirror_mode": {
    "name": "ipython",
    "version": 3
   },
   "file_extension": ".py",
   "mimetype": "text/x-python",
   "name": "python",
   "nbconvert_exporter": "python",
   "pygments_lexer": "ipython3",
   "version": "3.12.3"
  }
 },
 "nbformat": 4,
 "nbformat_minor": 5
}
