{
 "cells": [
  {
   "cell_type": "code",
   "execution_count": 1,
   "id": "b867efd5-1a2f-4222-9eb2-37ed89ee846e",
   "metadata": {},
   "outputs": [
    {
     "name": "stdout",
     "output_type": "stream",
     "text": [
      "result (scipy) = 1.6294925\n",
      "result (sympy) = 1.6294925\n",
      "indefinite integral: x**6/30 + x**5/5 + x**4/2 + 2*x**3/3 + x**2/2 + x/5\n"
     ]
    },
    {
     "data": {
      "text/latex": [
       "$\\displaystyle \\frac{x^{6}}{30} + \\frac{x^{5}}{5} + \\frac{x^{4}}{2} + \\frac{2 x^{3}}{3} + \\frac{x^{2}}{2} + \\frac{x}{5}$"
      ],
      "text/plain": [
       "x**6/30 + x**5/5 + x**4/2 + 2*x**3/3 + x**2/2 + x/5"
      ]
     },
     "execution_count": 1,
     "metadata": {},
     "output_type": "execute_result"
    }
   ],
   "source": [
    "from scipy.integrate import quad\n",
    "from sympy import symbols, integrate\n",
    "\n",
    "# -----------------------------\n",
    "# Numerical integration using scipy\n",
    "# -----------------------------\n",
    "# define the function to integrate\n",
    "integrand = lambda x: ((x+1)**5)/5\n",
    "\n",
    "# calculate the definite integral from 0 to (26**0.2 - 1)\n",
    "result, _ = quad(integrand, 0, (26**0.2) - 1)\n",
    "print(f'result (scipy) = {result:0.7f}')\n",
    "\n",
    "# -----------------------------\n",
    "# Symbolic definite integration using sympy\n",
    "# -----------------------------\n",
    "x = symbols('x')\n",
    "integrand = ((x+1)**5)/5\n",
    "\n",
    "# definite integral from 0 to (26**0.2 - 1)\n",
    "result = integrate(integrand, (x, 0, (26**0.2) - 1))\n",
    "print(f'result (sympy) = {result:0.7f}')\n",
    "\n",
    "# -----------------------------\n",
    "# Symbolic indefinite integration using sympy\n",
    "# -----------------------------\n",
    "x = symbols('x')\n",
    "integrand = ((x+1)**5)/5\n",
    "\n",
    "# indefinite integral (compact form)\n",
    "indefinite = integrate(integrand, x)\n",
    "print(f'indefinite integral: {indefinite}')\n",
    "\n",
    "# return the symbolic object as well\n",
    "indefinite\n"
   ]
  },
  {
   "cell_type": "code",
   "execution_count": null,
   "id": "61329486-ca1d-452c-a8a2-ae414a470c52",
   "metadata": {},
   "outputs": [],
   "source": []
  }
 ],
 "metadata": {
  "kernelspec": {
   "display_name": "Python 3 (ipykernel)",
   "language": "python",
   "name": "python3"
  },
  "language_info": {
   "codemirror_mode": {
    "name": "ipython",
    "version": 3
   },
   "file_extension": ".py",
   "mimetype": "text/x-python",
   "name": "python",
   "nbconvert_exporter": "python",
   "pygments_lexer": "ipython3",
   "version": "3.12.3"
  }
 },
 "nbformat": 4,
 "nbformat_minor": 5
}
