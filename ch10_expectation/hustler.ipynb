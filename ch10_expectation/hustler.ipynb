{
 "cells": [
  {
   "cell_type": "code",
   "execution_count": 1,
   "id": "bd2e66d2-429e-416b-be46-a01bdd10f90f",
   "metadata": {},
   "outputs": [
    {
     "name": "stdout",
     "output_type": "stream",
     "text": [
      "The expected winning = 0.88\n"
     ]
    }
   ],
   "source": [
    "from scipy.stats import binom\n",
    "\n",
    "# Function to compute expected value given number of trials n, probability p, and winnings ws\n",
    "def expectation(n, p, ws):\n",
    "    prob = [binom.pmf(k, n, p) for k in range(n+1)]  # probabilities for 0..n successes\n",
    "    return sum([x*y for x, y in zip(ws, prob)])      # sum of value * probability\n",
    "\n",
    "# Possible winnings in the game\n",
    "winnings = [-1, 1.5, 3, 5, 10, 20]\n",
    "\n",
    "# Compute and print expected winning\n",
    "print(f\"The expected winning = {expectation(5, 1/6, winnings):0.2f}\")\n"
   ]
  },
  {
   "cell_type": "code",
   "execution_count": 2,
   "id": "5b3224c4-4b96-4a00-8a21-2bb1c955fca2",
   "metadata": {},
   "outputs": [
    {
     "data": {
      "image/png": "[encoded data removed]",
      "text/plain": [
       "<Figure size 400x300 with 1 Axes>"
      ]
     },
     "metadata": {},
     "output_type": "display_data"
    }
   ],
   "source": [
    "import numpy as np\n",
    "import matplotlib.pyplot as plt\n",
    "import seaborn as sns    \n",
    "from scipy.stats import binom\n",
    "\n",
    "# Define possible winnings and corresponding probabilities\n",
    "xs = np.array([-1, 1.5, 3, 5, 10, 20])\n",
    "ys = np.array([binom.pmf(k, 5, 1/6) for k in range(6)])\n",
    "\n",
    "# Create a tight bar plot of the PMF\n",
    "fig, ax = plt.subplots(figsize=(4, 3))\n",
    "ax.set_xlabel('Winning (£)')\n",
    "ax.set_ylabel('Probability')\n",
    "sns.barplot(x=xs, y=ys, ax=ax, color='skyblue')\n",
    "\n",
    "plt.tight_layout()  # adjusts spacing to avoid overlaps\n",
    "fig.savefig('img/hustler.png')\n",
    "plt.show()\n"
   ]
  },
  {
   "cell_type": "code",
   "execution_count": null,
   "id": "fa8e333e-d3ca-4007-8c5c-20ba98e54b70",
   "metadata": {},
   "outputs": [],
   "source": []
  }
 ],
 "metadata": {
  "kernelspec": {
   "display_name": "Python 3 (ipykernel)",
   "language": "python",
   "name": "python3"
  },
  "language_info": {
   "codemirror_mode": {
    "name": "ipython",
    "version": 3
   },
   "file_extension": ".py",
   "mimetype": "text/x-python",
   "name": "python",
   "nbconvert_exporter": "python",
   "pygments_lexer": "ipython3",
   "version": "3.12.3"
  }
 },
 "nbformat": 4,
 "nbformat_minor": 5
}
