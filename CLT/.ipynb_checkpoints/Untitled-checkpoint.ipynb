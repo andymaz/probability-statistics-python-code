{
 "cells": [
  {
   "cell_type": "markdown",
   "id": "8894799e-84d2-41e4-9041-030d28ff2122",
   "metadata": {},
   "source": [
    "### Constructing a DataFrame for a Weighted Die"
   ]
  },
  {
   "cell_type": "code",
   "execution_count": 1,
   "id": "c65a97dd-c5a7-47a8-b9d6-cf908daef67e",
   "metadata": {},
   "outputs": [
    {
     "name": "stdout",
     "output_type": "stream",
     "text": [
      "   face  odds  x*P(x)  (x-mean)^2*P(x)\n",
      "0     1   0.1     0.1            0.576\n",
      "1     2   0.2     0.4            0.392\n",
      "2     3   0.3     0.9            0.048\n",
      "3     4   0.1     0.4            0.036\n",
      "4     5   0.2     1.0            0.512\n",
      "5     6   0.1     0.6            0.676\n",
      "Mean = 3.4, Variance = 2.24, SD = 1.4966629547095767\n"
     ]
    }
   ],
   "source": [
    "import pandas as pd\n",
    "\n",
    "# Define weighted die PMF\n",
    "faces = list(range(1, 7))\n",
    "odds = [0.1, 0.2, 0.3, 0.1, 0.2, 0.1]\n",
    "\n",
    "df = pd.DataFrame({'face': faces, 'odds': odds})\n",
    "\n",
    "# Compute mean (expected value)\n",
    "df['x*P(x)'] = df['face'] * df['odds']\n",
    "mean = df['x*P(x)'].sum()\n",
    "\n",
    "# Compute variance\n",
    "df['(x-mean)^2*P(x)'] = ((df['face'] - mean) ** 2) * df['odds']\n",
    "variance = df['(x-mean)^2*P(x)'].sum()\n",
    "sd = variance ** 0.5\n",
    "\n",
    "# Display results\n",
    "print(df)\n",
    "print(f\"Mean = {mean}, Variance = {variance}, SD = {sd}\")"
   ]
  }
 ],
 "metadata": {
  "kernelspec": {
   "display_name": "Python 3 (ipykernel)",
   "language": "python",
   "name": "python3"
  },
  "language_info": {
   "codemirror_mode": {
    "name": "ipython",
    "version": 3
   },
   "file_extension": ".py",
   "mimetype": "text/x-python",
   "name": "python",
   "nbconvert_exporter": "python",
   "pygments_lexer": "ipython3",
   "version": "3.12.3"
  }
 },
 "nbformat": 4,
 "nbformat_minor": 5
}
