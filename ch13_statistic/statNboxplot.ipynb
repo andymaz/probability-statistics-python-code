{
 "cells": [
  {
   "cell_type": "code",
   "execution_count": 1,
   "id": "1dfa1525-0d56-425f-b764-256bec9bfe47",
   "metadata": {},
   "outputs": [
    {
     "name": "stdout",
     "output_type": "stream",
     "text": [
      "Mean of l1 = 35.0\n",
      "Mean of l2 = 35.0\n"
     ]
    }
   ],
   "source": [
    "import pandas as pd\n",
    "import matplotlib.pyplot as plt\n",
    "\n",
    "data = {'l1': [31, 32, 33, 34, 35, 36, 37, 38, 39], \n",
    "        'l2': [5, 10, 15, 25, 35, 45, 55, 60, 65]}\n",
    "             \n",
    "df = pd.DataFrame(data)\n",
    "\n",
    "# Mean of each dataset\n",
    "print(f\"Mean of l1 = {df['l1'].mean()}\")\n",
    "print(f\"Mean of l2 = {df['l2'].mean()}\")"
   ]
  },
  {
   "cell_type": "code",
   "execution_count": 2,
   "id": "9e2bb100-46e1-420d-a60d-6e166234a5ca",
   "metadata": {},
   "outputs": [
    {
     "data": {
      "text/plain": [
       "l1     2.738613\n",
       "l2    22.500000\n",
       "dtype: float64"
      ]
     },
     "execution_count": 2,
     "metadata": {},
     "output_type": "execute_result"
    }
   ],
   "source": [
    "# By default, pandas computes the sample standard deviation (ddof=1)\n",
    "df.std(axis=0)"
   ]
  },
  {
   "cell_type": "code",
   "execution_count": 3,
   "id": "35e60c18-98ae-4ce2-9579-79dc070407ad",
   "metadata": {},
   "outputs": [
    {
     "data": {
      "text/html": [
       "<div>\n",
       "<style scoped>\n",
       "    .dataframe tbody tr th:only-of-type {\n",
       "        vertical-align: middle;\n",
       "    }\n",
       "\n",
       "    .dataframe tbody tr th {\n",
       "        vertical-align: top;\n",
       "    }\n",
       "\n",
       "    .dataframe thead th {\n",
       "        text-align: right;\n",
       "    }\n",
       "</style>\n",
       "<table border=\"1\" class=\"dataframe\">\n",
       "  <thead>\n",
       "    <tr style=\"text-align: right;\">\n",
       "      <th></th>\n",
       "      <th>l1</th>\n",
       "      <th>l2</th>\n",
       "    </tr>\n",
       "  </thead>\n",
       "  <tbody>\n",
       "    <tr>\n",
       "      <th>count</th>\n",
       "      <td>9.000000</td>\n",
       "      <td>9.0</td>\n",
       "    </tr>\n",
       "    <tr>\n",
       "      <th>mean</th>\n",
       "      <td>35.000000</td>\n",
       "      <td>35.0</td>\n",
       "    </tr>\n",
       "    <tr>\n",
       "      <th>std</th>\n",
       "      <td>2.738613</td>\n",
       "      <td>22.5</td>\n",
       "    </tr>\n",
       "    <tr>\n",
       "      <th>min</th>\n",
       "      <td>31.000000</td>\n",
       "      <td>5.0</td>\n",
       "    </tr>\n",
       "    <tr>\n",
       "      <th>25%</th>\n",
       "      <td>33.000000</td>\n",
       "      <td>15.0</td>\n",
       "    </tr>\n",
       "    <tr>\n",
       "      <th>50%</th>\n",
       "      <td>35.000000</td>\n",
       "      <td>35.0</td>\n",
       "    </tr>\n",
       "    <tr>\n",
       "      <th>75%</th>\n",
       "      <td>37.000000</td>\n",
       "      <td>55.0</td>\n",
       "    </tr>\n",
       "    <tr>\n",
       "      <th>max</th>\n",
       "      <td>39.000000</td>\n",
       "      <td>65.0</td>\n",
       "    </tr>\n",
       "  </tbody>\n",
       "</table>\n",
       "</div>"
      ],
      "text/plain": [
       "              l1    l2\n",
       "count   9.000000   9.0\n",
       "mean   35.000000  35.0\n",
       "std     2.738613  22.5\n",
       "min    31.000000   5.0\n",
       "25%    33.000000  15.0\n",
       "50%    35.000000  35.0\n",
       "75%    37.000000  55.0\n",
       "max    39.000000  65.0"
      ]
     },
     "execution_count": 3,
     "metadata": {},
     "output_type": "execute_result"
    }
   ],
   "source": [
    "df.describe()"
   ]
  },
  {
   "cell_type": "code",
   "execution_count": 4,
   "id": "ab88f234-6bb0-4723-b057-aba83e3c2169",
   "metadata": {},
   "outputs": [
    {
     "data": {
      "image/png": "[encoded data removed]",
      "text/plain": [
       "<Figure size 400x400 with 1 Axes>"
      ]
     },
     "metadata": {},
     "output_type": "display_data"
    }
   ],
   "source": [
    "# Boxplot\n",
    "df.boxplot(figsize=(4,4))\n",
    "\n",
    "# Add labels and title\n",
    "plt.xlabel(\"Variables\")\n",
    "plt.ylabel(\"Values\")\n",
    "plt.title(\"Boxplot of l1 and l2\")\n",
    "\n",
    "plt.tight_layout() \n",
    "# Save and show\n",
    "plt.savefig(\"img/boxplotL1L2.png\")\n",
    "plt.show()"
   ]
  },
  {
   "cell_type": "code",
   "execution_count": null,
   "id": "be4fc0a3-75fc-4228-9c2c-8773b1c2af7a",
   "metadata": {},
   "outputs": [],
   "source": []
  }
 ],
 "metadata": {
  "kernelspec": {
   "display_name": "Python 3 (ipykernel)",
   "language": "python",
   "name": "python3"
  },
  "language_info": {
   "codemirror_mode": {
    "name": "ipython",
    "version": 3
   },
   "file_extension": ".py",
   "mimetype": "text/x-python",
   "name": "python",
   "nbconvert_exporter": "python",
   "pygments_lexer": "ipython3",
   "version": "3.12.3"
  }
 },
 "nbformat": 4,
 "nbformat_minor": 5
}
