{
 "cells": [
  {
   "cell_type": "markdown",
   "id": "06d76703-9dcb-4ae7-a523-42c15bcfca15",
   "metadata": {},
   "source": [
    "Consider the random experiment of throwing two regular dice once.  \n",
    "Let the random variable X denote the sum of the prime numbers appearing on the two dice.  "
   ]
  },
  {
   "cell_type": "code",
   "execution_count": 1,
   "id": "131ba8bb-b243-4e61-a1ba-43a97bca4052",
   "metadata": {},
   "outputs": [
    {
     "name": "stdout",
     "output_type": "stream",
     "text": [
      "(1, 1) (1, 2) (1, 3) (1, 4) (1, 5) (1, 6) \n",
      "(2, 1) (2, 2) (2, 3) (2, 4) (2, 5) (2, 6) \n",
      "(3, 1) (3, 2) (3, 3) (3, 4) (3, 5) (3, 6) \n",
      "(4, 1) (4, 2) (4, 3) (4, 4) (4, 5) (4, 6) \n",
      "(5, 1) (5, 2) (5, 3) (5, 4) (5, 5) (5, 6) \n",
      "(6, 1) (6, 2) (6, 3) (6, 4) (6, 5) (6, 6) \n",
      "\n",
      " ---------------------------------------- \n",
      "\n",
      "   0   2   3   0   5   0\n",
      "   2   4   5   2   7   2\n",
      "   3   5   6   3   8   3\n",
      "   0   2   3   0   5   0\n",
      "   5   7   8   5  10   5\n",
      "   0   2   3   0   5   0\n",
      "\n",
      " ---------------------------------------- \n",
      "\n",
      "   0, 9\n",
      "   2, 6\n",
      "   3, 6\n",
      "   5, 8\n",
      "   4, 1\n",
      "   7, 2\n",
      "   6, 1\n",
      "   8, 2\n",
      "  10, 1\n"
     ]
    }
   ],
   "source": [
    "from collections import defaultdict\n",
    "\n",
    "# All pairs of dice rolls (1 to 6)\n",
    "dice = [(x, y) for x in range(1, 7) for y in range(1, 7)]\n",
    "\n",
    "# Print all dice pairs in a 6x6 grid\n",
    "for i, a in enumerate(dice):\n",
    "    print(f'{str(a):7}', end='')\n",
    "    if (i + 1) % 6 == 0:\n",
    "        print()\n",
    "\n",
    "print('\\n', '-' * 40, '\\n')\n",
    "\n",
    "# Function returns the number if prime (2,3,5), else 0\n",
    "r = lambda x: x if x in [2, 3, 5] else 0\n",
    "\n",
    "# Print sum of primes from each dice face separately for each pair\n",
    "for i, (a, b) in enumerate(dice):\n",
    "    print(f'{(r(a) + r(b)):4}', end='')\n",
    "    if (i + 1) % 6 == 0:\n",
    "        print()\n",
    "\n",
    "print('\\n', '-' * 40, '\\n')\n",
    "\n",
    "counts = defaultdict(int)\n",
    "\n",
    "# Count occurrences of sums of prime face values\n",
    "for (a, b) in dice:\n",
    "    counts[r(a) + r(b)] += 1\n",
    "\n",
    "# Print sums and their frequencies\n",
    "for k, v in counts.items():\n",
    "    print(f'{k:4}, {v}')\n"
   ]
  },
  {
   "cell_type": "code",
   "execution_count": null,
   "id": "81abbf11-1546-4088-a992-ea83e36028e8",
   "metadata": {},
   "outputs": [],
   "source": []
  }
 ],
 "metadata": {
  "kernelspec": {
   "display_name": "Python 3 (ipykernel)",
   "language": "python",
   "name": "python3"
  },
  "language_info": {
   "codemirror_mode": {
    "name": "ipython",
    "version": 3
   },
   "file_extension": ".py",
   "mimetype": "text/x-python",
   "name": "python",
   "nbconvert_exporter": "python",
   "pygments_lexer": "ipython3",
   "version": "3.12.3"
  }
 },
 "nbformat": 4,
 "nbformat_minor": 5
}
