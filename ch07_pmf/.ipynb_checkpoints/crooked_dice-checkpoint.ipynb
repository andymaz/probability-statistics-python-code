{
 "cells": [
  {
   "cell_type": "code",
   "execution_count": 1,
   "id": "52f9bce7-ce76-49fe-a94d-af48637c56e9",
   "metadata": {},
   "outputs": [],
   "source": [
    "import numpy as np\n",
    "import random\n",
    "import matplotlib.pyplot as plt"
   ]
  },
  {
   "cell_type": "markdown",
   "id": "fe07e0ef-7b39-4603-ba92-42ef23d3ce88",
   "metadata": {},
   "source": [
    "### A Dice Weighted to Give a Biased Result – A Loaded Dice"
   ]
  },
  {
   "cell_type": "code",
   "execution_count": 2,
   "id": "3e682c3d-7946-4660-b2f9-26b6887965e8",
   "metadata": {},
   "outputs": [],
   "source": [
    "nums = [1, 2, 2, 3, 3, 3, 4, 5, 5, 6]"
   ]
  },
  {
   "cell_type": "code",
   "execution_count": 3,
   "id": "d9d20ad5-70f1-423c-ba0a-803d42e5654a",
   "metadata": {},
   "outputs": [],
   "source": [
    "# Simulate 1,000,000 rolls of a loaded die.\n",
    "# 'nums' should be a list representing the die faces with bias (e.g., [1,1,2,3,3,3]).\n",
    "# Each roll is randomly selected according to the frequencies in 'nums'.\n",
    "xs = np.array([random.choice(nums) \n",
    "               for _ in range(1000000)])\n"
   ]
  },
  {
   "cell_type": "code",
   "execution_count": 4,
   "id": "70ec222a-1dc8-4bac-b4fb-2256edca4b68",
   "metadata": {},
   "outputs": [
    {
     "data": {
      "image/png": "[encoded data removed]",
      "text/plain": [
       "<Figure size 400x200 with 1 Axes>"
      ]
     },
     "metadata": {},
     "output_type": "display_data"
    }
   ],
   "source": [
    "# Create a histogram of the simulated loaded dice rolls.\n",
    "# - figsize sets the figure size (width=4, height=2 inches)\n",
    "# - bins=6 corresponds to the six die faces\n",
    "# - color='r' fills bars red, ec='black' adds black edges\n",
    "# - density=True scales the histogram to show probabilities\n",
    "# - histtype='bar' makes a standard bar histogram\n",
    "# - align='mid' centres bars on tick marks\n",
    "# Save the figure as 'crooked_dice.jpg' and display it.\n",
    "fig, ax = plt.subplots(figsize=(4, 2))\n",
    "ax.hist(xs, bins=6, color='r', \n",
    "        density=True, histtype='bar', \n",
    "        ec='black', align='mid')\n",
    "\n",
    "fig.savefig('img/crooked_dice.jpg')\n",
    "\n",
    "plt.show()\n"
   ]
  },
  {
   "cell_type": "code",
   "execution_count": 5,
   "id": "ba68045f-2c2c-4a6c-9f00-abd46c9384d9",
   "metadata": {},
   "outputs": [],
   "source": [
    "# Probability distribution for the loaded die\n",
    "odds = [0.1, 0.2, 0.3, 0.1, 0.2, 0.1]\n",
    "\n",
    "# Fully vectorized simulation of 1,000,000 biased die rolls\n",
    "xs2 = np.random.choice(np.arange(1, 7), size=1000000, p=odds)"
   ]
  },
  {
   "cell_type": "code",
   "execution_count": 6,
   "id": "68e8c628-850b-493c-a0da-bc395d8f26ac",
   "metadata": {},
   "outputs": [
    {
     "data": {
      "image/png": "[encoded data removed]",
      "text/plain": [
       "<Figure size 400x200 with 1 Axes>"
      ]
     },
     "metadata": {},
     "output_type": "display_data"
    }
   ],
   "source": [
    "# Create a histogram of the simulated biased dice rolls stored in xs2.\n",
    "# - figsize sets the figure size (width=4, height=2 inches)\n",
    "# - bins=6 corresponds to the six die faces\n",
    "# - color='m' fills bars magenta, ec='black' adds black edges\n",
    "# - density=True scales the histogram to show probabilities\n",
    "# - histtype='bar' makes a standard bar histogram\n",
    "# - align='mid' centres bars on tick marks\n",
    "# Save the figure as 'crooked_dice2.jpg' and display it.\n",
    "fig, ax = plt.subplots(figsize=(4, 2))\n",
    "ax.hist(xs2, bins=6, color='m', \n",
    "        density=True, histtype='bar', \n",
    "        ec='black', align='mid')\n",
    "\n",
    "fig.savefig('img/crooked_dice2.jpg')\n",
    "\n",
    "plt.show()"
   ]
  },
  {
   "cell_type": "code",
   "execution_count": null,
   "id": "b37118de-bfd1-4510-b2a8-35cb6f8fd144",
   "metadata": {},
   "outputs": [],
   "source": []
  }
 ],
 "metadata": {
  "kernelspec": {
   "display_name": "Python 3 (ipykernel)",
   "language": "python",
   "name": "python3"
  },
  "language_info": {
   "codemirror_mode": {
    "name": "ipython",
    "version": 3
   },
   "file_extension": ".py",
   "mimetype": "text/x-python",
   "name": "python",
   "nbconvert_exporter": "python",
   "pygments_lexer": "ipython3",
   "version": "3.12.3"
  }
 },
 "nbformat": 4,
 "nbformat_minor": 5
}
