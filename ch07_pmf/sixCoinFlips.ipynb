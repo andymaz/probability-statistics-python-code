{
 "cells": [
  {
   "cell_type": "code",
   "execution_count": 1,
   "id": "63966fc9-c491-4e7e-948d-8e30a6a562ec",
   "metadata": {},
   "outputs": [
    {
     "data": {
      "image/png": "[encoded data removed]",
      "text/plain": [
       "<Figure size 800x200 with 2 Axes>"
      ]
     },
     "metadata": {},
     "output_type": "display_data"
    }
   ],
   "source": [
    "import pandas as pd\n",
    "import matplotlib.pyplot as plt\n",
    "from collections import defaultdict\n",
    "import seaborn as sns\n",
    "\n",
    "# Map binary digit to coin face\n",
    "coin = lambda a: 'H' if a == '0' else 'T'\n",
    "\n",
    "# Dictionary to count occurrences of tail counts\n",
    "counts = defaultdict(int)\n",
    "\n",
    "# Function to count number of tails in a sequence\n",
    "tail = lambda xs: sum(1 for n in xs if n == 'T')\n",
    "\n",
    "# Generate all possible outcomes for 6 coin flips\n",
    "coins = []\n",
    "for x in range(64):\n",
    "    coins.append(''.join(coin(b) for b in bin(x)[2:].zfill(6)))\n",
    "\n",
    "# Count frequency of each tail count\n",
    "for c in coins:\n",
    "    counts[tail(c)] += 1\n",
    "\n",
    "# Create DataFrame of results\n",
    "df = pd.DataFrame(columns=['tails', 'count'])\n",
    "for i, (k, v) in enumerate(sorted(counts.items())):\n",
    "    df.loc[i] = [k, v]\n",
    "\n",
    "# Compute probability for each number of tails\n",
    "df['pr'] = df['count'] / 64\n",
    "\n",
    "# Scatter plot of tail counts vs probabilities\n",
    "fig, ax = plt.subplots(1, 2, figsize=(8, 2))\n",
    "sns.barplot(x=df['tails'], y=df['pr'], ax=ax[0])\n",
    "ax[1].scatter(df['tails'], df['pr'], color='m')\n",
    "fig.savefig('img/six_coin_flips')\n",
    "plt.show()"
   ]
  }
 ],
 "metadata": {
  "kernelspec": {
   "display_name": "Python 3 (ipykernel)",
   "language": "python",
   "name": "python3"
  },
  "language_info": {
   "codemirror_mode": {
    "name": "ipython",
    "version": 3
   },
   "file_extension": ".py",
   "mimetype": "text/x-python",
   "name": "python",
   "nbconvert_exporter": "python",
   "pygments_lexer": "ipython3",
   "version": "3.12.3"
  }
 },
 "nbformat": 4,
 "nbformat_minor": 5
}
