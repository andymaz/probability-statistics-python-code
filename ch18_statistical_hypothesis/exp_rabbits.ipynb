{
 "cells": [
  {
   "cell_type": "raw",
   "id": "3b98d023-98fe-4aa8-89ee-9c1554ff4c22",
   "metadata": {},
   "source": [
    "import numpy as np\n",
    "import pandas as pd\n",
    "from scipy.stats import chi2\n",
    "\n",
    "observed = [12, 14, 18, 15, 17, 20, 21]\n",
    "\n",
    "df = pd.DataFrame({\n",
    "    'Observed (O_i)': observed, \n",
    "    'Expected (E_i)': [15 for _ in observed]\n",
    "})\n",
    "\n",
    "\n",
    "print(df, '\\n')\n",
    "\n",
    "df['value'] = (df['Observed (O_i)'] \n",
    "    - df['Expected (E_i)']) ** 2 / df['Expected (E_i)']\n",
    "\n",
    "print(df, '\\n')\n",
    "\n",
    "v = sum(df.value)\n",
    "print(v, '\\n')\n",
    "\n",
    "print(f'cv = {chi2.ppf(1-0.05, df=6):0.3f}')"
   ]
  },
  {
   "cell_type": "code",
   "execution_count": 1,
   "id": "ddd4aaa8-166a-455f-baa7-1217acb401c0",
   "metadata": {},
   "outputs": [
    {
     "name": "stdout",
     "output_type": "stream",
     "text": [
      "Chi-squared statistic: 3.795\n",
      "P-value: 0.704413\n"
     ]
    }
   ],
   "source": [
    "import numpy as np\n",
    "from scipy.stats import chisquare\n",
    "\n",
    "observed = np.array([12, 14, 18, 15, 17, 20, 21])\n",
    "expected = np.array([15] * len(observed))\n",
    "\n",
    "# Scale expected counts so that sum(expected) = sum(observed)\n",
    "expected = expected * (observed.sum() / expected.sum())\n",
    "\n",
    "chi2_stat, p_value = chisquare(f_obs=observed, f_exp=expected)\n",
    "\n",
    "print(f\"Chi-squared statistic: {chi2_stat:.3f}\")\n",
    "print(f\"P-value: {p_value:.6f}\")\n"
   ]
  },
  {
   "cell_type": "code",
   "execution_count": null,
   "id": "2a5e60e4-4059-4df2-9158-50dc7625bdd3",
   "metadata": {},
   "outputs": [],
   "source": []
  }
 ],
 "metadata": {
  "kernelspec": {
   "display_name": "Python 3 (ipykernel)",
   "language": "python",
   "name": "python3"
  },
  "language_info": {
   "codemirror_mode": {
    "name": "ipython",
    "version": 3
   },
   "file_extension": ".py",
   "mimetype": "text/x-python",
   "name": "python",
   "nbconvert_exporter": "python",
   "pygments_lexer": "ipython3",
   "version": "3.12.3"
  }
 },
 "nbformat": 4,
 "nbformat_minor": 5
}
