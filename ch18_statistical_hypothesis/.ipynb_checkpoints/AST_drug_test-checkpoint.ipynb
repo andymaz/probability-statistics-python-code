{
 "cells": [
  {
   "cell_type": "code",
   "execution_count": 1,
   "id": "36b716f7-3818-4ef9-b424-bc88617604d6",
   "metadata": {},
   "outputs": [
    {
     "name": "stdout",
     "output_type": "stream",
     "text": [
      "-13.917\n",
      "sd = 0.515\n",
      "t_crit = -1.796\n",
      "tc = -93.61\n",
      "95% CI: (-14.244, -13.590)\n"
     ]
    }
   ],
   "source": [
    "import numpy as np\n",
    "import pandas as pd\n",
    "from scipy.stats import t\n",
    "\n",
    "# Updated AST data (before and after drug)\n",
    "df = pd.DataFrame({\n",
    "    'before': [65, 67, 62, 58, 60, 66, 64, 63, 59, 61, 68, 66],\n",
    "    'after' : [51, 53, 47, 45, 46, 52, 50, 49, 46, 47, 54, 52]\n",
    "})\n",
    "\n",
    "# Compute differences\n",
    "df['Xd'] = df['after'] - df['before']\n",
    "\n",
    "# Sample mean\n",
    "m = np.round(np.mean(df['Xd']), 3)\n",
    "print(m)\n",
    "# output: -13.917\n",
    "\n",
    "# Sample standard deviation\n",
    "sd = np.round(np.std(df['Xd'], ddof=1), 3)\n",
    "print(f'sd = {sd:0.3f}')\n",
    "# output: 0.515\n",
    "\n",
    "# Critical t-value (left-tailed 5% significance)\n",
    "alpha = 0.05\n",
    "dfree = len(df['Xd']) - 1\n",
    "t_crit = t.ppf(alpha, dfree)\n",
    "print(f't_crit = {t_crit:0.3f}')\n",
    "# output: -1.796\n",
    "\n",
    "# Calculated t-value\n",
    "tc = m / (sd / np.sqrt(len(df['Xd'])))\n",
    "print(f'tc = {tc:0.2f}')\n",
    "# output: -93.61\n",
    "\n",
    "# 95% confidence interval\n",
    "t_crit_two_sided = t.ppf(0.975, dfree)\n",
    "margin_error = t_crit_two_sided * sd / np.sqrt(len(df['Xd']))\n",
    "CI_lower = m - margin_error\n",
    "CI_upper = m + margin_error\n",
    "print(f'95% CI: ({CI_lower:0.3f}, {CI_upper:0.3f})')\n",
    "# output: (-14.244, -13.590)\n"
   ]
  },
  {
   "cell_type": "code",
   "execution_count": null,
   "id": "45162c72-9352-4bcc-91e8-374df0061d43",
   "metadata": {},
   "outputs": [],
   "source": []
  }
 ],
 "metadata": {
  "kernelspec": {
   "display_name": "Python 3 (ipykernel)",
   "language": "python",
   "name": "python3"
  },
  "language_info": {
   "codemirror_mode": {
    "name": "ipython",
    "version": 3
   },
   "file_extension": ".py",
   "mimetype": "text/x-python",
   "name": "python",
   "nbconvert_exporter": "python",
   "pygments_lexer": "ipython3",
   "version": "3.12.3"
  }
 },
 "nbformat": 4,
 "nbformat_minor": 5
}
