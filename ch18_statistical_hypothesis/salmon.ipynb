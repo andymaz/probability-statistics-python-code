{
 "cells": [
  {
   "cell_type": "code",
   "execution_count": 1,
   "id": "3d9e0459-8f5f-4586-a8e3-508c77f9b0d4",
   "metadata": {},
   "outputs": [
    {
     "name": "stdout",
     "output_type": "stream",
     "text": [
      "Contingency Table with Totals:\n",
      "         one   two  three  total\n",
      "feed                           \n",
      "old     780  1004   1450   3234\n",
      "new     855  1083   1670   3608\n",
      "total  1635  2087   3120   6842 \n",
      "\n",
      "Manual chi-squared statistic: 1.504\n",
      "Critical value (df=2, alpha=0.05): 5.991\n",
      "Result: Cannot reject null hypothesis\n",
      "\n",
      "SciPy chi-squared statistic: 1.504\n",
      "Degrees of freedom: 2\n",
      "P-value: 0.471336\n",
      "Expected counts:\n",
      " [[ 772.81350482  986.45980707 1474.7266881 ]\n",
      " [ 862.18649518 1100.54019293 1645.2733119 ]]\n"
     ]
    }
   ],
   "source": [
    "import numpy as np\n",
    "import pandas as pd\n",
    "from scipy.stats import chi2, chi2_contingency\n",
    "\n",
    "# -------------------------------\n",
    "# Step 1: Define contingency table\n",
    "# -------------------------------\n",
    "# Observed frequencies of salmon feed trials\n",
    "salmon = pd.DataFrame({\n",
    "    'feed': ['old', 'new'],\n",
    "    'one': [780, 855],\n",
    "    'two': [1004, 1083],\n",
    "    'three': [1450, 1670]\n",
    "})\n",
    "salmon.set_index('feed', inplace=True)\n",
    "\n",
    "# Optional: Add row and column totals for manual calculation\n",
    "salmon.loc['total'] = salmon.sum(axis=0)\n",
    "salmon['total'] = salmon.sum(axis=1)\n",
    "\n",
    "print(\"Contingency Table with Totals:\\n\", salmon, \"\\n\")\n",
    "\n",
    "# --------------------------------------------\n",
    "# Step 2: Manual calculation of chi-squared\n",
    "# --------------------------------------------\n",
    "previous = np.array(salmon)      # Include margins\n",
    "rows, cols = previous.shape\n",
    "\n",
    "# Degrees of freedom: (rows-1)*(cols-1) excluding totals\n",
    "df = (rows-1-1)*(cols-1-1)  # -1 for totals\n",
    "N = previous[-1, -1]          # Total count\n",
    "\n",
    "# Compute expected counts (without totals)\n",
    "expected = np.zeros((rows-1, cols-1))\n",
    "for i in range(rows-1):\n",
    "    for j in range(cols-1):\n",
    "        expected[i,j] = (previous[i,-1] * previous[-1,j]) / N\n",
    "\n",
    "# Compute chi-squared statistic manually\n",
    "chi2_stat = 0.0\n",
    "for i in range(rows-1):\n",
    "    for j in range(cols-1):\n",
    "        chi2_stat += ((previous[i,j] - expected[i,j])**2) / expected[i,j]\n",
    "\n",
    "print(f\"Manual chi-squared statistic: {chi2_stat:.3f}\")\n",
    "\n",
    "# Critical value for 95% confidence\n",
    "cv = chi2.ppf(0.95, df=df)\n",
    "print(f\"Critical value (df={df}, alpha=0.05): {cv:.3f}\")\n",
    "\n",
    "if chi2_stat > cv:\n",
    "    print(\"Result: Reject null hypothesis\")\n",
    "else:\n",
    "    print(\"Result: Cannot reject null hypothesis\\n\")\n",
    "\n",
    "# --------------------------------------------\n",
    "# Step 3: Using scipy.stats.chi2_contingency\n",
    "# --------------------------------------------\n",
    "observed = np.array(salmon.iloc[:-1, :-1])  # exclude totals\n",
    "chi2_stat_scipy, p_value, dof, expected_scipy = chi2_contingency(observed)\n",
    "\n",
    "print(\"SciPy chi-squared statistic: {:.3f}\".format(chi2_stat_scipy))\n",
    "print(\"Degrees of freedom:\", dof)\n",
    "print(\"P-value: {:.6f}\".format(p_value))\n",
    "print(\"Expected counts:\\n\", expected_scipy)\n"
   ]
  },
  {
   "cell_type": "code",
   "execution_count": 2,
   "id": "cbc9b315-5e74-46e2-a746-344495252f62",
   "metadata": {},
   "outputs": [
    {
     "name": "stdout",
     "output_type": "stream",
     "text": [
      "cv = 5.991\n"
     ]
    }
   ],
   "source": [
    "from scipy.stats import chi2\n",
    "print(f'cv = {chi2.ppf(1-0.05, df=2):0.3f}')\n",
    "# cv = 5.991"
   ]
  },
  {
   "cell_type": "code",
   "execution_count": null,
   "id": "5f859d56-00bb-4c3e-a4ce-193d02fcdc8d",
   "metadata": {},
   "outputs": [],
   "source": []
  }
 ],
 "metadata": {
  "kernelspec": {
   "display_name": "Python 3 (ipykernel)",
   "language": "python",
   "name": "python3"
  },
  "language_info": {
   "codemirror_mode": {
    "name": "ipython",
    "version": 3
   },
   "file_extension": ".py",
   "mimetype": "text/x-python",
   "name": "python",
   "nbconvert_exporter": "python",
   "pygments_lexer": "ipython3",
   "version": "3.12.3"
  }
 },
 "nbformat": 4,
 "nbformat_minor": 5
}
