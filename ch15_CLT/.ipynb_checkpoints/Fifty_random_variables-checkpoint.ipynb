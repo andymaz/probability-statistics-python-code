{
 "cells": [
  {
   "cell_type": "markdown",
   "id": "8ae6120a-8b94-4368-a188-0ba4b179c3eb",
   "metadata": {},
   "source": [
    "### Fifty i.i.d. random variables $ X_1, X_2, \\dots, X_{50} $"
   ]
  },
  {
   "cell_type": "code",
   "execution_count": 1,
   "id": "b929b38e-7c5e-4570-9c85-05edfdc9e963",
   "metadata": {},
   "outputs": [
    {
     "name": "stdout",
     "output_type": "stream",
     "text": [
      "probability = 0.9615\n"
     ]
    }
   ],
   "source": [
    "from scipy.stats import norm  \n",
    "\n",
    "mu, sigma = (5*50), 8/(50 ** 0.5)  # 2\n",
    "print(f'probability = {norm.cdf(252, mu, sigma):0.4f}')  "
   ]
  },
  {
   "cell_type": "code",
   "execution_count": 2,
   "id": "0e5c3368-3286-463e-9c93-6a79aacdb3ea",
   "metadata": {},
   "outputs": [
    {
     "name": "stdout",
     "output_type": "stream",
     "text": [
      "probability = 0.6232\n"
     ]
    }
   ],
   "source": [
    "print(f'probability = {(norm.cdf(251, mu, sigma) - \n",
    "                        norm.cdf(249, mu, sigma)):0.4f}')  "
   ]
  },
  {
   "cell_type": "code",
   "execution_count": null,
   "id": "5928ac74-f851-42c3-b595-915c1529ffc8",
   "metadata": {},
   "outputs": [],
   "source": []
  }
 ],
 "metadata": {
  "kernelspec": {
   "display_name": "Python 3 (ipykernel)",
   "language": "python",
   "name": "python3"
  },
  "language_info": {
   "codemirror_mode": {
    "name": "ipython",
    "version": 3
   },
   "file_extension": ".py",
   "mimetype": "text/x-python",
   "name": "python",
   "nbconvert_exporter": "python",
   "pygments_lexer": "ipython3",
   "version": "3.12.3"
  }
 },
 "nbformat": 4,
 "nbformat_minor": 5
}
