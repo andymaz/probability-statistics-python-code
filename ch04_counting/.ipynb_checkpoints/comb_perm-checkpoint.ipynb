{
 "cells": [
  {
   "cell_type": "code",
   "execution_count": 1,
   "id": "1b56f7b7-9d9d-4864-9187-00017446f492",
   "metadata": {},
   "outputs": [],
   "source": [
    "from functools import lru_cache\n",
    "from math import comb, perm"
   ]
  },
  {
   "cell_type": "code",
   "execution_count": 2,
   "id": "0bd285af-9301-497b-8b19-5e02103a2f36",
   "metadata": {},
   "outputs": [
    {
     "name": "stdout",
     "output_type": "stream",
     "text": [
      "184756\n"
     ]
    }
   ],
   "source": [
    "def com(n, k):\n",
    "    if k == 0 or n == k:\n",
    "        return 1\n",
    "    if k == 1:\n",
    "        return n\n",
    "    return com(n-1, k-1) + com(n-1, k)\n",
    "\n",
    "print(com(20, 10))"
   ]
  },
  {
   "cell_type": "code",
   "execution_count": 3,
   "id": "9e283f87-0abc-45fd-985c-621ba2dbdc02",
   "metadata": {},
   "outputs": [
    {
     "name": "stdout",
     "output_type": "stream",
     "text": [
      "100891344545564193334812497256\n"
     ]
    }
   ],
   "source": [
    "@lru_cache(maxsize=None)\n",
    "def com(n, k):\n",
    "    if k == 0 or n == k:\n",
    "        return 1\n",
    "    if k == 1:\n",
    "        return n\n",
    "    return com(n-1, k-1) + com(n-1, k)\n",
    "\n",
    "print(com(100, 50))"
   ]
  },
  {
   "cell_type": "markdown",
   "id": "15cbf516-0107-42eb-9544-335c7ad6e5fb",
   "metadata": {},
   "source": [
    "## Using math library "
   ]
  },
  {
   "cell_type": "code",
   "execution_count": 4,
   "id": "1dffd60f-8984-450a-8be8-5daca9358bc9",
   "metadata": {},
   "outputs": [
    {
     "name": "stdout",
     "output_type": "stream",
     "text": [
      "Combination C(100, 50) = 100891344545564193334812497256\n",
      "Permutation P(100, 50) = 3068518756254966037202730459529469739228459721684688959447786986982158958772355072000000000000\n"
     ]
    }
   ],
   "source": [
    "# Calculate combination C(100, 50)\n",
    "print(f\"Combination C(100, 50) = {comb(100, 50)}\")\n",
    "\n",
    "# Calculate permutation P(100, 50)\n",
    "print(f\"Permutation P(100, 50) = {perm(100, 50)}\")"
   ]
  }
 ],
 "metadata": {
  "kernelspec": {
   "display_name": "Python 3 (ipykernel)",
   "language": "python",
   "name": "python3"
  },
  "language_info": {
   "codemirror_mode": {
    "name": "ipython",
    "version": 3
   },
   "file_extension": ".py",
   "mimetype": "text/x-python",
   "name": "python",
   "nbconvert_exporter": "python",
   "pygments_lexer": "ipython3",
   "version": "3.12.3"
  }
 },
 "nbformat": 4,
 "nbformat_minor": 5
}
